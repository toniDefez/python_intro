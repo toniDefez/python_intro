{
 "cells": [
  {
   "cell_type": "markdown",
   "id": "754d124b",
   "metadata": {},
   "source": [
    "In this tutorial, we will see how we can train a model to classify text (here based on their sentiment). First we will see how to do this quickly in a few lines of code, then how to get state-of-the art results using the approach of the ULMFit paper.\n",
    "\n",
    "We will use the IMDb dataset from the paper Learning Word Vectors for Sentiment Analysis, containing a few thousand movie reviews.\n",
    "https://ai.stanford.edu/~amaas/data/sentiment/\n",
    "\n",
    "But is too heavy so instead we choose another more simple (IMB_SAMPLE) that is only a csv file with a lot of opinions\n",
    "\n",
    "Para ejecutar este proyecto hemos tenido que cambiar un poco la configuracion del proyecto. En primer lugar tuvimos que instalar miniconda 3 https://www.anaconda.com/download/success\n",
    "\n",
    "y luego configurarlo para que utilizara nuestra gpu ( cuando trabajamos con texto  es la unica manera de obtener algo mas o menos plausible)\n",
    "en el directorio encontraras un enviroment.yml \n",
    "\n",
    "conda env create -f environment.yml\n",
    "conda activate pytorch"
   ]
  },
  {
   "cell_type": "markdown",
   "id": "f85e482f",
   "metadata": {},
   "source": [
    "Comprobamos que estamos usando Anaconda y la version 3.12 de python \n",
    "Para usar torch neceistamos python 3.12 sino revienta !!!!!"
   ]
  },
  {
   "cell_type": "code",
   "execution_count": 4,
   "id": "2dda1da2",
   "metadata": {},
   "outputs": [
    {
     "name": "stdout",
     "output_type": "stream",
     "text": [
      "3.12.12 | packaged by Anaconda, Inc. | (main, Oct 14 2025, 16:10:16) [MSC v.1929 64 bit (AMD64)]\n"
     ]
    }
   ],
   "source": [
    "import sys\n",
    "print(sys.version)"
   ]
  },
  {
   "cell_type": "code",
   "execution_count": null,
   "id": "d8c911ea",
   "metadata": {},
   "outputs": [
    {
     "name": "stdout",
     "output_type": "stream",
     "text": [
      "GPU disponible: True\n",
      "Dispositivo: NVIDIA GeForce RTX 4060 Laptop GPU\n",
      "Versión PyTorch: 2.5.1\n",
      "Versión CUDA de PyTorch: 12.1\n",
      "CUDA disponible: True\n"
     ]
    }
   ],
   "source": [
    "\n",
    "import torch\n",
    "print(\"GPU disponible:\", torch.cuda.is_available())\n",
    "print(\"Dispositivo:\", torch.cuda.get_device_name(0) if torch.cuda.is_available() else \"CPU\")\n",
    "\n",
    "print(\"Versión PyTorch:\", torch.__version__)\n",
    "print(\"Versión CUDA de PyTorch:\", torch.version.cuda)\n",
    "print(\"CUDA disponible:\", torch.cuda.is_available())\n"
   ]
  },
  {
   "cell_type": "code",
   "execution_count": 1,
   "id": "f889276d",
   "metadata": {},
   "outputs": [],
   "source": [
    "from fastai.text.all import *"
   ]
  },
  {
   "cell_type": "markdown",
   "id": "9d812f32",
   "metadata": {},
   "source": [
    "We can download the data and decompress it with the following command:"
   ]
  },
  {
   "cell_type": "code",
   "execution_count": 2,
   "id": "125a1cfc",
   "metadata": {},
   "outputs": [
    {
     "data": {
      "text/plain": [
       "(#1) [Path('C:/Users/tonid/.fastai/data/imdb_sample/texts.csv')]"
      ]
     },
     "execution_count": 2,
     "metadata": {},
     "output_type": "execute_result"
    }
   ],
   "source": [
    "path = untar_data(URLs.IMDB_SAMPLE)\n",
    "path.ls()\n"
   ]
  },
  {
   "cell_type": "markdown",
   "id": "cd8a59b2",
   "metadata": {},
   "source": [
    "La informacion aparece unicamente en un fichero csv donde la columna label nos informa si es correcta o no la informacion"
   ]
  },
  {
   "cell_type": "code",
   "execution_count": 3,
   "id": "4e45c3c1",
   "metadata": {},
   "outputs": [
    {
     "name": "stdout",
     "output_type": "stream",
     "text": [
      "Due to IPython and Windows limitation, python multiprocessing isn't available now.\n",
      "So `n_workers` has to be changed to 0 to avoid getting stuck\n",
      "Clases encontradas: [['xxunk', 'xxpad', 'xxbos', 'xxeos', 'xxfld', 'xxrep', 'xxwrep', 'xxup', 'xxmaj', 'the', ',', '.', 'and', 'a', 'of', 'to', 'is', 'it', 'in', 'i', 'that', 'this', '\"', \"'s\", '-', 'was', '\\n\\n', 'as', 'for', 'movie', 'with', 'but', 'film', 'you', ')', 'on', '(', \"n't\", 'are', 'not', 'he', 'his', 'have', 'be', 'one', 'they', 'all', 'at', 'by', 'an', 'like', 'from', 'so', 'who', '!', 'there', 'about', 'or', 'just', 'if', 'out', 'do', 'her', 'some', 'what', 'has', \"'\", 'more', 'good', '?', 'very', 'up', 'when', 'she', 'would', 'no', 'were', 'their', 'even', 'time', 'really', 'only', 'my', 'can', 'story', 'had', 'which', '…', 'see', 'did', 'me', 'we', 'well', 'into', 'does', ':', 'will', 'bad', 'than', 'also', 'get', 'much', 'people', 'because', 'could', 'other', 'first', 'been', 'how', 'any', 'its', 'most', 'then', 'great', 'make', 'two', 'made', 'him', 'them', 'way', '/', 'too', 'after', 'never', 'acting', 'think', 'movies', 'watch', ';', 'films', 'many', 'where', 'little', 'life', 'plot', 'character', 'seen', 'man', 'being', 'better', 'over', 'characters', 'here', 'your', 'know', 'love', 'end', 'best', 'show', 'should', 'off', 'say', 'scenes', 'ever', 'while', 'something', 'through', 'still', 'go', 'these', 'scene', '3', 'such', 'why', 'those', 'though', '--', 'before', \"'m\", 'back', '10', 'watching', 'old', 'thing', 'actually', 'real', 'years', 'actors', \"'ve\", 'going', 'now', 'between', 'new', 'same', 'find', 'part', 'nothing', 'quite', 'pretty', 'funny', 'around', 'another', 'makes', 'work', 'down', \"'re\", 'fact', 'want', 'look', 'few', 'action', 'seems', 'director', 'point', 'world', 'things', 'ca', 'lot', 'enough', 'both', 'without', 'got', '*', '&', 'us', 'cast', 'again', 'thought', 'big', 'series', 'original', 'own', 'almost', 'may', 'bit', 'horror', 'every', \"'ll\", 'whole', 'young', 'might', 'family', 'probably', 'least', 'must', 'gets', 'come', 'however', 'interesting', 'right', 'kind', 'take', 'true', 'each', 'saw', 'away', 'fun', 'anything', 'give', 'day', 'making', 'hard', 'feel', 'minutes', 'times', 'long', 'script', 'done', 'someone', 'last', 'role', 'girl', 'book', 'looks', 'place', 'guy', 'course', 'tv', 'always', 'comes', 'comedy', 'since', 'simply', 'trying', 'far', 'shows', 'found', 'believe', 'goes', 'effects', 'actor', 'yet', 'set', 'looking', 'having', '2', \"'d\", 'performance', 'worst', 'sense', 'together', 'shot', 'left', 'sure', 'music', 'american', 'rest', 'year', 'screen', 'although', 'woman', 'our', 'read', 'takes', 'worth', 'especially', 'audience', 'star', 'three', 'played', 'anyone', 'women', 'men', 'once', 'special', 'instead', 'watched', 'black', 'maybe', 'am', 'ending', 'said', 'later', 'wife', 'let', '1', 'mind', 'put', 'seem', 'dvd', 'different', 'friends', 'rather', 'sex', 'john', 'main', 'production', 'budget', 'perhaps', 'second', 'low', 'plays', 'either', '\\x96', 'job', 'start', 'next', 'high', 'video', 'top', 'others', 'idea', 'less', 'everyone', 'beautiful', 'half', 'war', '..', '4', 'version', 'performances', 'poor', 'else', 'reason', 'couple', 'need', 'kids', 'name', 'boring', 'nice', 'completely', 'during', 'tell', 'try', 'wrong', 'full', 'case', 'money', 'already', 'death', 'liked', 'father', 'house', 'fan', 'play', 'help', 'piece', 'episode', 'along', 'terrible', 'lost', 'everything', 'hollywood', 'camera', 'came', 'supposed', 'robert', 'night', 'excellent', 'keep', 'used', 'stars', 'given', 'kill', 'getting', 'often', 'use', 'entire', 'yes', 'head', 'himself', 'turn', 'live', 'throughout', 'stupid', 'moments', 'girls', 'until', 'title', 'history', 'small', 'felt', 'written', 'enjoy', 'person', 'sound', 'problem', 'style', 'early', 'remember', 'truly', 'awful', 'oh', 'drama', 'classic', 'cinema', 'hand', 'town', 'overall', 'human', 'picture', 'quality', 'children', 'parts', 'called', 'home', 'itself', 'king', 'short', 'lines', 'doing', 'fans', 'under', 'despite', 'seemed', 'lead', '5', 'writing', 'gives', 'white', 'hope', 'sort', 'child', 'recommend', 'friend', 'killer', 'face', 'definitely', 'boy', 'unfortunately', 'absolutely', 'become', 'worse', 'mean', 'decent', 'close', 'son', 'school', 'late', 'fine', 'seeing', 'past', 'days', 'five', 'says', 'blood', 'beginning', 'wanted', 'attempt', 'able', 'james', 'against', 'went', 'dialogue', 'anyway', 'waste', 'violence', 'killed', 'eyes', 'guys', 'wo', 'line', 'except', 'lives', 'genre', 'based', 'word', 'self', 'mr', 'playing', 'told', 'wonderful', 'english', 'car', 'certainly', 'sometimes', 'serious', 'behind', 'matter', 'humor', 'leave', 'hero', 'dead', 'run', 'direction', 'dark', 'turns', 'entertaining', 'feeling', 'light', 'care', 'documentary', 'loved', 'etc', 'side', 'heard', 'mother', 'gore', 'city', 'thinking', 'several', 'works', 'flick', 'evil', 'group', 'themselves', 'tries', 'final', 'exactly', 'dull', 'game', 'highly', 'god', 'brother', 'talking', 'eye', 'wonder', 'modern', 'moment', 'crap', 'lack', 'wants', 'hit', 'starts', 'perfect', 'hour', 'alone', 'finally', 'somewhat', 'cheap', 'roles', 'release', 'bunch', 'kid', 'lady', 'red', 'stuff', 'fight', 'guess', 'stories', 'gave', 'michael', 'saying', 'ridiculous', 'nearly', 'heart', 'daughter', 'horrible', 'viewer', 'opinion', 'happens', 'expect', 'shown', 'brilliant', 'non', 'cinematography', 'novel', 'events', 'took', 'country', 'george', 'knows', 'problems', 'totally', 'example', 'interest', 'sister', 'relationship', 'order', 'finds', 'please', 'view', 'similar', 'yourself', 'oscar', 'upon', 'laugh', 'voice', 'slow', 'apparently', 'review', 'tells', 'follow', 'extremely', 'soon', 'obviously', 'seriously', 'known', 'figure', 'age', 'became', 'local', 'important', 'ago', 'score', 'turned', 'usually', 'happen', 'including', 'paul', 'myself', 'art', 'directed', 'british', 'save', 'knew', 'major', 'number', 'level', 'happened', 'favorite', 'leads', 'working', 'enjoyed', 'huge', 'ok', 'mostly', 'general', 'ones', 'falls', 'becomes', 'using', 'romantic', 'writer', 'ben', 'de', 'understand', 'episodes', 'supporting', 'nature', 'ends', 'change', 'across', 'shots', 'type', 'ten', 'filmed', 'gone', '0', 'female', 'released', 'living', 'happy', 'jokes', 'scary', 'sets', 'none', 'beyond', 'romance', 'body', 're', 'involved', 'possible', 'needs', '8', 'room', 'disappointed', 'hours', 'taken', 'four', 'sexual', 'straight', 'form', 'chance', 'victor', 'tale', 'particularly', 'power', 'doubt', 'secret', 'actress', 'ways', 'experience', 'bring', 'earth', 'husband', 'cut', 'convincing', 'monster', 'weak', 'complete', 'boys', 'message', 'easily', 'rating', 'coming', 'surprised', 'sad', 'named', 'wish', 'cover', 'dance', '7', 'today', 'dialog', 'editing', 'stop', 'space', 'b', 'list', 'clearly', 'features', 'woods', 'team', 'twist', 'police', 'forced', 'theme', 'typical', 'parents', 'effort', 'cheesy', 'obvious', 'difficult', 'western', 'plenty', 'amazing', 'clear', 'create', 'particular', 'started', 'future', 'laughs', 'soundtrack', 'easy', 'murder', 'silly', 'york', 'comic', 'spent', 'subject', 'lake', 'basically', 'add', 'forget', 'simple', 'greatest', 'feels', 'above', 'cool', 'leading', 'strong', 'strange', 'steve', 'hardly', 'enjoyable', 'near', 'note', 'mention', 'science', 'career', 'words', 'mess', 'sit', 'killing', 'attention', 'realistic', 'storyline', 'feature', 'points', 'japanese', 'tom', 'giving', 'french', 'whose', 'moving', 'within', 'annoying', 'due', 'talk', 'water', 'reality', 'whether', 'opening', 'certain', 'zombie', 'footage', 'entertainment', 'herself', 'appear', 'indeed', 'taking', 'average', 'suspense', 'caught', 'running', 'hell', 'recently', 'stage', 'devil', 'chase', 'dramatic', 'looked', 'stand', 'gay', 'imagine', 'towards', 'call', 'talent', 'fall', 'single', 'screenplay', 'hilarious', 'decided', 'act', 'material', 'die', 'office', 'luke', 'gun', 'bill', 'thriller', 'usual', 'setting', 'deal', 'begin', 'somehow', 'society', 'joe', 'keeps', 'predictable', 'dancing', 'agree', 'audiences', 'minute', 'la', 'attempts', 'german', 'tried', 'okay', 'fantastic', 'whatever', 'mentioned', 'portrayed', 'focus', 'appears', 'earlier', 'richard', 'army', 'incredibly', 'period', 'deep', 'total', 'showing', 'avoid', 'baby', 'company', 'free', 'stay', 'large', '20', 'box', 'middle', 'business', 'david', 'rent', 'apart', 'sequences', 'west', 'outside', 'interested', 'rock', 'move', 'truth', 'hear', 'break', 'miss', 'comments', '80', 'musical', 'unique', 'stick', 'davis', 'brothers', 'dr', 'lots', 'alive', 'lee', 'suddenly', 'public', 'door', 'crew', 'rich', 'third', 'means', 'sadly', 'sorry', 'kills', 'buy', 'possibly', 'fire', 'actual', 'question', 'cgi', 'comment', 'remake', 'kept', 'jimmy', 'dream', '30', 'language', 'allen', 'sounds', 'indian', 'america', 'tension', 'deserves', 'lame', 'cartoon', '\\n\\n▁', 'former', 'agent', 'crime', 'believable', 'pain', 'values', 'basic', 'acted', 'weird', 'premise', 'meets', 'fairly', 'unless', 'hair', 'ask', 'expecting', 'jack', 'front', 'popular', 'viewing', 'died', 'eventually', '9', 'christmas', 'adaptation', 'missed', 'ability', 'meaning', 'learn', 'nor', 'television', 'fast', 'needed', 'positive', 'al', 'hate', 'blob', 'jim', 'porn', 'state', 'street', 'situation', 'directors', 'concept', '6', 'sitting', 'reading', 'return', 'fred', 'poorly', 'hold', 'creepy', 'jane', '15', 'building', 'married', 'missing', 'laughing', 'begins', 'sequence', 'grade', 'follows', 'viewers', 'decides', 'hands', 'air', 'open', 'project', 'south', 'further', 'surprisingly', 's', 'bourne', 'dad', 'realize', 'meet', 'william', 'shame', 'worked', 'explain', 'mystery', 'expected', 'effect', 'singing', 'emotional', 'ghost', 'male', 'elements', 'tone', 'theatrical', 'slasher', 'intended', 'members', 'heavy', 'runs', 'otherwise', 'song', 'spoilers', 'share', 'era', 'government', 'helps', 'russian', 'class', 'social', 'barely', 'brought', 'among', '$', 'onto', 'makers', 'meant', 'plain', 'normal', 'homer', 'value', 'willing', 'successful', 'adventure', 'bother', 'violent', 'filmmakers', 'older', 'waiting', 'control', 'purpose', 'bored', 'flat', 'rated', 'scott', 'present', 'manages', 'hot', 'century', 'credit', 'crazy', 'cry', 'filming', 'narrative', 'perfectly', 'expectations', 'honestly', 'peter', 'sequel', 'road', 'cold', 'beauty', 'design', 'plus', 'clever', 'producers', 'somewhere', 'thrown', 'win', 'shooting', 'pointless', 'connection', 'students', 'sick', 'mark', 'food', 'rose', 'dressed', 'directing', 'odd', 'leaves', 'moves', 'famous', 'involving', 'considering', 'catch', 'success', 'badly', 'season', '50', 'telling', 'fake', 'accent', 'surprise', 'credits', 'background', 'stunning', 'writers', 'admit', 'martin', 'bizarre', 'casting', 'slightly', 'shop', 'vargas', 'dog', 'revenge', 'impressive', 'unlike', 'effective', 'touching', 'battle', 'image', 'literally', 'recent', 'brooks', 'pieces', 'costumes', 'memorable', 'kate', 'actresses', 'vampires', 'nudity', 'following', 'arthur', 'redeeming', 'computer', 'copy', 'machine', 'recommended', 'wondering', 'doctor', 'grace', 'forward', 'comedies', 'fiction', 'rate', 'development', 'epic', 'walk', 'masterpiece', 'likes', 'intelligent', 'neither', 'thanks', 'taste', 'radio', 'drive', 'trash', 'intelligence', 'allow', 'vampire', 'trouble', 'six', 'names', 'washington', 'painful', 'joke', 'personally', 'noir', 'conflict', 'historical', 'previous', 'sees', 'solid', 'puts', 'limited', 'aware', 'emotions', 'wrote', 'merely', 'fell', 'ended', 'aspects', 'zero', 'nick', 'dreams', 'jump', 'professional', 'powerful', 'sexy', 'besides', 'attack', 'post', 'issues', 'immediately', 'visual', 'amount', 'personal', 'wild', 'burns', 'filled', 'songs', 'impossible', 'adult', 'natural', 'cult', 'glad', '+', 'pick', 'jones', 'built', 'ms', 'extreme', 'church', 'various', 'gold', 'japan', 'months', 'developed', 'speaking', 'cat', 'feelings', 'relationships', 'charming', 'common', 'loud', 'changes', 'rare', 'impact', 'fear', 'garbage', 'africa', 'created', 'situations', 'edge', 'forever', 'brings', 'pace', 'clothes', 'failed', 'photography', 'numerous', 'charles', 'pure', 'books', 'inside', 'brief', '%', 'mediocre', 'sight', 'apartment', 'wait', 'island', 'hey', 'week', 'evening', 'law', 'leaving', 'ex', 'mad', 'considered', 'animation', 'f', 'talented', 'honest', 'born', 'track', 'themes', 'rubbish', 'event', 'wearing', 'check', 'commentary', 'escape', 'extras', 'serial', 'x', 'support', 'sub', 'grew', 'latter', 'award', 'loves', 'respect', 'imdb', 'movement', 'boss', 'information', 'beautifully', 'sci', 'fi', 'train', 'cause', 'depth', 'contains', 'moore', 'managed', 'terms', 'changed', 'match', 'asks', 'ideas', 'reviewers', 'jackson', 'animated', 'standing', 'dying', 'humour', 'animals', 'evidence', 'anybody', 'villain', 'political', '70', 'longer', 'ugly', 'fair', 'channel', 'disappointment', 'friendship', 'wasted', 'emotion', 'party', 'silent', 'mysterious', 'witch', 'touch', 'kevin', 'o', 'lose', 'surely', 'system', 'central', 'savage', 'murdered', 'fantasy', 'riding', 'heroine', 'sam', 'laughable', 'showed', 'thin', 'everybody', 'awesome', 'impressed', 'lovers', 'quickly', 'perspective', 'versions', 'appeal', 'stuck', 'loving', 'cinematic', 'picked', 'news', 'deserve', 'color', 'reviews', 'amusing', 'blue', 'details', 'uses', 'fellow', 'received', 'ship', 'prison', 'finish', 'superb', 'compared', 'yeah', 'continuity', 'pilot', 'creative', 'pull', 'steven', 'girlfriend', 'tony', 'existence', 'forgotten', 'willie', 'zombies', 'spend', 'religious', 'claim', 'force', 'window', 'site', 'freedom', 'biko', 'result', 'ultimately', 'locations', 'doc', 'tough', 'gangster', 'addition', 'twists', 'motion', 'childhood', 'reasons', 'spoiler', 'co', 'count', 'whatsoever', 'speak', 'teacher', 'appearance', 'industry', 'scenery', 'aside', 'turning', 'constantly', 'cross', 'jr', 'community', 'mine', 'images', 'happening', 'makeup', 'wooden', 'martial', 'excuse', 'chris', 'fox', 'wells', 'colors', 'naschy', 'nowhere', 'chemistry', 'plan', 'guns', 'naked', 'equally', 'pass', 'walking', 'creature', 'vision', 'flaws', 'conclusion', 'warning', 'disturbing', 'manner', 'candy', 'standard', 'fame', 'moral', 'victim', 'responsible', 'direct', 'remains', 'animal', 'location', 'store', '90', 'boat', 'struggle', 'african', 'baseball', 'fanfan', 'trip', 'soul', 'fat', 'understanding', 'heads', 'stephen', 'member', 'answer', 'band', 'survive', 'shirt', 'philosophy', 'subtle', 'brain', 'falling', 'bed', 'vhs', 'trailer', 'spirit', 'appreciate', 'whom', 'driving', 'write', 'won', 'deserved', 'lying', 'hunter', 'identity', 'media', 'lighting', 'entirely', 'player', 'biggest', 'knowledge', 'generally', 'arts', 'wow', 'aspect', 'beat', 'starring', 'charm', 'approach', 'confusing', 'ray', 'land', 'thinks', 'appeared', 'club', 'followed', 'soldiers', 'opportunity', 'skip', 'joey', 'bland', 'johnny', 'met', 'lies', 'cooper', 'consider', 'frank', 'likable', 'culture', 'current', 'provides', 'include', 'bear', 'claire', 'humorous', 'incredible', 'demons', 'rental', 'places', 'jason', 'fully', 'loose', 'genius', 'surfing', 'brian', 'prince', 'anywhere', 'superior', 'context', 'student', 'religion', 'offer', 'unbelievable', 'bought', 'wanting', 'thus', 'ants', 'jigsaw', 'suicide', 'familiar', 'paid', 'suggest', 'produced', 'studio', 'wars', 'franchise', 'friday', 'apparent', 'prove', 'thank', 'twenty', 'sat', 'decade', 'impression', 'sky', 'finding', 'journey', 'efforts', 'marriage', 'pay', 'refuses', 'hospital', 'outstanding', 'hall', 'fails', 'compelling', 'atmosphere', 'pacing', 'ground', 'smith', 'fit', 'justice', 'lovely', 'brutal', 'lacks', 'dirty', 'regard', 'adds', 'author', 'added', 'negative', 'u.s', 'pleasure', 'race', 'cute', 'alien', 'stays', 'treasure', 'van', 'military', 'mainly', 'hoping', 'anti', 'minor', 'captain', '12', 'lewis', 'crater', 'sweet', 'williams', 'questions', 'throw', 'shocking', 'portrayal', 'nt', 'lugosi', 'pathetic', 'provide', 'astaire', '80s', 'boyfriend', 'valentine', 'legend', 'producer', 'faces', 'choice', 'warn', 'pity', 'lets', 'camp', '1970s', 'recall', 'summer', 'planet', 'cop', 'gang', 'college', 'suppose', 'unusual', 'captured', 'torture', 'reminiscent', 'studios', 'italian', 'laughter', 'faith', 'toward', 'neighborhood', 'moved', 'field', 'chosen', 'length', 'slowly', 'mood', 'seemingly', 'winning', 'reach', 'semi', 'afraid', 'nicely', 'mission', 'melting', 'climax', 'starting', 'ladies', 'drunk', 'gorgeous', 'realism', 'stayed', 'somebody', 'sucks', 'cars', 'dealing', 'nasty', 'sport', 'passion', 'reminded', 'amongst', 'holes', 'destroyed', 'tend', 'victims', 'decide', 'national', 'unnecessary', 'louis', 'supposedly', 'artistic', 'station', 'dies', 'deliver', 'north', 'carradine', 'record', 'hurt', 'super', 'albert', 'massacre', 'teenage', 'thoroughly', 'hopefully', 'sake', 'villains', 'humans', 'random', 'teenager', 'potential', 'visit', 'forgot', 'henry', 'tragic', 'roll', 'mary', 'games', 'ahead', 'wise', 'wedding', 'wave', 'acceptable', 'powers', 'edited', 'treatment', 'double', 'snakes', 'bits', 'capture', 'enemy', 'knowing', 'spot', 'stewart', 'felix', 'c', 'crash', 'caused', 'taylor', 'batman', 'howard', 'seven', 'davies', 'hanks', 'seagal', 'ryan', 'presented', 'likely', 'generation', 'disappointing', 'ed', 'chose', 'lie', 'wall', 'fu', 'terribly', 'deals', 'roger', 'hits', 'wonderfully', 'ring', 'detail', 'castle', 'eating', 'murders', 'began', 'miles', 'grand', 'drugs', 'park', 'alex', 'remembered', 'tired', 'mom', 'quick', 'enjoying', 'loses', 'california', 'hill', 'welcome', 'confused', 'ann', 'magic', 'youth', 'memories', 'date', 'keeping', 'formula', 'dubbed', 'offering', 'leader', 'reveal', 'angles', 'plane', '\\x85▁', 'described', 'discover', 'proves', 'bloody', 'lacking', 'whenever', 'weeks', 'allowed', 'involves', 'presence', 'hardy', 'steal', 'saved', 'universal', 'shoot', 'drug', 'round', 'explanation', 'exciting', 'inspired', 'levels', 'states', 'bottom', \"''\", 'accept', 'desert', 'mouth', 'claims', 'mistake', 'concerned', '1970', 'shock', 'insight', 'below', 'fate', 'lord', 'dennis', 'disney', 'explicit', 'jean', 'fighting', 'pulled', 'thousands', 'd', 'desperate', 'stands', 'ii', 'sent', 'bond', 'mixed', 'continues', 'adventures', 'ordinary', 'teen', 'graphic', 'ready', 'search', '100', 'entertain', 'sign', 'utter', 'danes', 'technical', 'cops', 'opposite', 'heck', 'smile', 'fashion', 'blonde', 'lover', 'serbian', 'gundam', 'amateurish', 'mask', 'according', 'texas', 'fuqua', 'soderbergh', 'shallow', 'younger', 'racism', 'joy', 'junior', 'trust', 'bet', 'memory', 'carrying', 'standards', 'listen', 'harsh', 'screaming', 'horribly', 'everywhere', 'core', 'cuts', 'hated', 'scream', 'village', 'accident', 'feet', 'difference', 'h', 'ice', 'independent', 'held', 'model', 'marry', 'treat', 'mistaken', 'gags', 'massive', 'eat', 'soap', 'logic', 'chief', 'terrific', 'promising', 'unknown', 'advice', 'flying', 'step', 'wilson', 'touches', 'scare', 'nobody', 'exact', 'theater', 'mob', 'harris', 'utterly', 'aliens', 'deliberately', 'personality', 'exception', 'behavior', 'innocent', 'available', 'bringing', 'extra', 'accurate', 'proper', 'empty', 'cia', 'hang', 'pulls', 'engaging', 'rarely', 'ride', 'jabba', 'princess', 'rescue', 'accidentally', 'drinking', 'worthy', 'andy', 'lived', 'glimpse', 'committed', 'rape', 'unrealistic', 'diamond', 'complex', 'kennedy', 'jeff', 'teenagers', 'chinese', 'fresh', 'delivered', 'morning', 'endless', 'morality', 'absolute', 'pile', 'judy', 'traditional', 'vehicle', 'twice', 'melodrama', 'drawn', 'finished', 'focuses', 'majority', 'actions', 'collection', 'broken', 'inept', 'ass', 'daughters', 'hugh', 'essentially', 'fool', 'adam', 'grown', 'metal', 'million', 'attractive', 'fascinating', 'evelyn', 'phone', 'structure', 'discovered', 'fifteen', 'soldier', 'pleasant', 'spy', 'robot', 'foot', 'favourite', 'variety', 'christian', 'endearing', 'introduced', 'johnson', 'torn', 'disgusting', 'foxx', 'scorsese', 'gilliam', 'geisha', 'normally', 'blame', 'ruined', 'grave', 'border', 'foreign', 'officer', 'develop', 'wood', 'insult', 'proved', 'popcorn', 'ill', 'bob', 'trilogy', 'becoming', 'appreciated', 'kung', 'psychological', 'capable', 'spanish', 'burned', 'meeting', 'killings', 'promise', 'conversations', 'necessary', 'floor', 'training', 'suffer', 'proud', 'notice', 'smart', 'scared', 'keaton', 'adults', 'carol', 'provided', 'seconds', 'opera', 'folks', 'everyday', 'quiet', 'opens', 'visuals', 'gory', 'england', 'mass', 'topless', 'worthwhile', 'guard', 'facts', 'laughed', 'maria', 'awkward', 'guessing', 'london', 'rule', 'los', 'hanging', 'christopher', 'court', 'unlikely', 'weight', 'pseudo', 'tight', 'anymore', 'obsessed', 'interviews', 'cynical', 'haunting', 'artist', 'experiences', 'han', 'featured', 'describe', 'packed', 'forces', 'carry', 'finest', 'cage', 'technically', 'steals', 'key', '#', 'lifetime', 'critical', 'bloodbath', 'bar', 'pair', 'damn', 'cliché', 'green', 'hotel', 'technology', 'graphics', 'm', 'focused', 'substance', 'forgettable', 'stone', 'consists', 'crappy', 'ups', 'plant', 'g', 'pointed', 'vanessa', 'redgrave', 'contemporary', 'authentic', 'pacino', 'paxton', 'nose', 'choose', 'inner', 'sheriff', 'relate', 'physical', 'beach', 'catholic', 'sits', 'gross', 'cutting', 'excited', 'consequences', 'niro', 'ultimatum', 'par', 'campy', 'device', 'modesty', 'blacks', 'matrix', 'anna', 'buying', 'curious', 'chapter', 'recognize', 'jackman', 'section', 'paint', 'wayans', 'magazine', 'eddie', 'ballet', 'tarzan', 'lovable', 'redemption', 'resolution', 'gary', 'flawed', 'ironically', 'succeeds', 'ultimate', 'clichés', 'finale', 'pal', 'asked', 'higher', 'hopes', 'spielberg', 'gruesome', 'statement', 'mix', 'trailers', 'granted', 'queen', 'aka', 'source', 'included', 'speed', 'renting', 'academy', 'winner', 'realized', 'conversation', 'warm', 'table', 'skin', 'ai', 'jessica', 'thomas', 'designed', 'handsome', 'nurse', 'liners', 'workers', 'germany', 'saving', 'account', 'backwards', 'handled', 'rings', 'lucky', 'returns', 'pulp', 'delivers', 'extraordinary', 'category', 'ran', 'disaster', 'madison', 'painfully', 'learns', 'kidnapped', 'execution', 'angry', 'serves', 'sucked', 'till', 'tracy', 'angels', 'mistakes', 'disbelief', 'remotely', 'gem', 'imagination', 'featuring', 'basement', 'oil', 'master', 'attempted', 'novels', 'occasionally', 'giant', 'portraying', 'anthony', 'golden', 'exploitation', 'native', 'tongue', 'laurel', 'prostitute', 'thankfully', 'speech', 'favor', 'dumb', 'build', 'streets', 'river', 'funniest', 'remind', 'desire', 'abuse', 'handed', 'sons', 'visually', 'tape', 'weapon', 'enter', 'fortunately', 'gon', 'na', 'combination', 'crowd', 'battles', 'regular', 'mirror', 'sitcom', 'commercials', 'doom', 'enters', 'festival', 'gratuitous', 'price', 'wind', 'element', 'luck', 'ancient', 'remaining', 'carried', 'cousin', 'enemies', 'wives', 'compare', 'strength', 'european', 'nevertheless', 'ages', 'criminal', 'bright', 'thoughts', 'grandmother', 'hint', 'miserably', 'strongly', 'americans', 'et', 'convey', 'apartheid', 'basis', 'meanwhile', 'cheech', 'asking', 'pre', 'holds', 'glenn', 'cameos', 'mid', 'noticed', 'rachel', 'blown', 'caprica', 'rented', 'nude', 'trees', 'competent', 'rangers', 'skits', 'waves', 'briefly', 'growing', 'join', 'offensive', 'tim', 'nazi', 'appropriate', 'prime', 'intriguing', 'cameron', 'titanic', 'alfred', 'possibility', 'sheer', '2001', 'simpson', 'dig', 'killers', 'survivors', 'theory', 'elsewhere', 'anime', 'dinosaur', 'frankly', 'harry', 'stevenson', 'unfortunate', 'comical', 'satisfying', 'jobs', 'results', 'dynamic', 'teens', 'anne', '40', 'karloff', 'sea', 'clichéd', 'rights', '11', 'calling', 'australian', 'viewed', 'page', 'donald', 'latino', 'judge', 'hanzo', 'leon', 'bugs', 'sheets', 'newman', 'ellen', 'rambo', 'sides', 'india', 'cost', 'kick', 'clean', 'mindless', 'glory', 'san', 'suffers', 'craft', 'critics', 'environment', 'u', 'driven', 'ruin', 'celebrity', 'soccer', 'suspect', 'hired', 'seek', 'heavily', 'racist', 'nominated', 'letter', 'bothered', 'sunday', 'individual', 'grandfather', 'pushed', 'affected', 'fail', 'believing', 'code', 'rain', 'cares', 'funnier', 'views', 'divided', 'claustrophobic', 'peace', 't', '60', 'treated', 'emma', 'kinds', 'lower', '):', 'rogers', 'spoiled', 'term', 'filmmaker', 'edward', 'hence', 'z', 'mst3k', 'explains', 'flesh', 'description', 'traveling', 'mankind', 'splendid', 'slight', 'flicks', 'arms', 'sword', 'cardboard', 'unfunny', 'mexican', 'gordon', 'toy', 'invisible', 'affair', 'required', 'wear', 'players', 'picks', 'rules', 'reference', 'shell', 'paper', 'creating', 'overly', 'hype', 'worry', 'emperor', 'send', 'hidden', 'disguise', 'plans', 'jail', 'bore', 'allows', 'experienced', 'successfully', 'rise', 'deeply', 'tommy', 'boris', 'smooth', 'false', 'damon', 'steel', 'defeat', 'africans', 'numbers', 'moon', 'east', 'content', 'sports', 'combined', 'convinced', 'bruce', 'union', 'network', 'laid', 'test', 'sexually', 'choreography', 'kitty', 'loss', 'bomb', 'solve', 'magnificent', 'concerns', 'breaks', 'football', 'sticks', 'bigger', 'chong', 'develops', 'spectacular', 'clark', 'correct', 'deadly', 'product', 'talents', 'france', 'crimes', 'tears', 'offers', 'streep', 'yawn', 'sleep', 'circumstances', 'haunted', 'genuinely', 'flashbacks', 'belief', 'bridge', 'pop', 'fbi', 'suited', 'rolling', 'paced', 'contain', 'wolf', 'peralta', 'documentaries', 'intense', '3d', 'draw', 'paris', 'saturday', 'afternoon', 'comparison', 'orders', 'twilight', 'zone', 'freddy', 'vietnam', 'whoever', 'dangerous', 'private', 'united', 'hole', 'bait', 'retired', 'grant', 'culkin', 'eric', 'downright', 'chest', 'stealing', 'hearted', 'luckily', 'frame', 'area', 'israel', 'shakespeare', 'n', 'photographer', 'ungar', 'matthau', 'sisters', 'comedic', '1980s', 'detective', 'process', 'relation', 'arnold', 'nonsense', 'plots', 'darkness', 'destined', 'attacked', 'tragedy', 'holding', 'rocket', 'tall', 'overlook', 'accents', 'shining', 'designs', '1950s', 'che', 'hundreds', 'whilst', 'fairy', 'nutcracker', '`', 'parker', 'alison', 'mckenna', 'moag', 'lily', 'w', 'carries', 'uk', 'served', 'duty', 'honor', 'mere', 'lips', 'seventies', 'justify', 'shortly', 'therefore', 'bodies', 'unexpected', 'friendly', 'depressing', 'excitement', 'opposed', 'hearts', 'dramas', 'warned', 'nine', 'secondly', 'fed', 'woody', 'theatre', 'complicated', 'dinner', 'remote', 'aged', 'irish', 'meat', 'raines', 'henderson', 'searching', 'innocence', 'phantom', 'instance', 'emphasis', 'starred', 'coal', 'explosion', 'repetitive', 'downhill', 'executed', 'nightmare', 'elderly', 'absurd', 'struggles', 'revealing', 'scares', 'viewings', 'relief', 'attempting', 'foster', 'el', 'sympathy', 'directs', 'mitch', 'uncle', 'jungle', 'natives', 'costs', 'productions', 'celluloid', 'stock', 'martians', 'machines', 'narrator', 'specific', 'fought', 'scripted', 'resembles', '2004', 'numbing', 'board', 'related', 'satan', 'santa', 'visits', 'incidentally', '\\x85', 'routine', 'valjean', 'secretary', 'movements', 'troops', 'march', 'bonus', 'tedious', 'erotic', 'repeated', 'soft', 'danger', 'chases', 'southern', 'learning', 'ingrid', 'pitt', 'tense', 'gender', 'fly', 'inspiring', 'grasp', 'constructed', 'energy', 'cavemen', 'thousand', 'suit', 'involvement', 'exposed', 'matters', 'hunt', 'alas', 'hip', 'bound', 'covered', 'europeans', 'europe', 'quest', 'credible', 'babe', 'bey', 'deaths', 'pictures', 'study', 'edith', 'edie', 'adapted', 'boyle', 'beast', 'accepted', 'immensely', 'heroes', 'busy', 'loser', 'health', '70s', 'embarrassing', 'existent', 'dire', 'assume', 'believes', 'meryl', 'stylized', 'market', 'stellar', 'foul', 'contrast', 'depicted', 'attacks', 'gray', 'angle', 'nearby', 'stanley', 'lesson', 'daily', 'weather', 'push', 'closely', 'skills', 'bitter', 'drink', 'trivia', 'simon', 'chick', 'appearing', 'tunes', 'locked', 'seat', 'fashioned', 'genuine', 'contrived', 'dozen', 'gene', 'confusion', 'learned', 'noble', 'idiot', 'strictly', 'gripping', 'disagree', 'oddly', 'sarah', 'importance', 'helped', 'scifi', 'witty', 'creation', 'christina', 'relevant', 'amazed', 'introduction', 'explained', 'fill', 'highlight', 'repeat', 'cases', 'faithful', 'rooms', 'acts', 'relating', 'fictional', 'billy', 'clara', 'ludicrous', 'winter', 'kim', 'principle', 'benjamin', 'medical', 'spite', 'azumi', 'regret', 'charlie', 'slugs', 'futuristic', 'broadcast', 'reveals', 'chávez', 'revolution', 'pilots', 'complain', '18', 'crude', 'suck', 'monkeys', 'guts', 'sean', 'whites', 'murphy', 'thirty', 'steps', 'e', 'shall', 'painting', '25', '1960', 'figures', 'enjoys', 'jerry', 'urban', 'month', 'picking', 'improbable', 'guessed', 'receive', 'calvin', 'twisted', 'press', 'qualities', 'letting', 'richards', 'underground', 'hearing', 'sympathetic', 'synopsis', 'brad', 'burke', 'passing', 'jazz', 'comics', 'stupidity', 'rohmer', 'notch', 'denzel', 'hood', 'neck', 'loyalty', 'razor', 'attitude', 'moores', 'campbell', 'prequel', 'wing', 'duvall', 'payne', 'navy', 'cruise', 'rip', 'report', 'jessie', 'gina', 'jesus', 'keys', 'weapons', 'iraq', 'mildred', 'beth', 'uninteresting', 'winston', 'colony', 'wendt', 'bug', 'raising', 'sayuri', 'chairman', 'kline', 'relatively', 'countries', 'caring', 'mrs', 'compelled', 'presentation', 'liberal', 'solely', 'poster', 'thief', 'comparisons', '_', 'specially', 'button', 'burning', 'calls', 'adding', 'displayed', 'shouting', 'lonely', 'strangely', 'temple', 'frightening', 'wondered', 'mickey', 'protagonist', 'dick', 'destruction', 'billed', 'spike', 'drives', 'delightful', 'attached', 'nope', 'kinda', 'shut', 'express', 'pretentious', 'cher', 'moonstruck', 'cared', 'comfortable', 'apply', 'ignorance', 'beer', 'stops', 'failure', 'sleeping', 'pet', 'portray', 'president', 'screenwriter', 'crafted', 'claiming', 'jeffrey', 'bette', 'eve', 'respective', 'china', 'miners', 'franco', 'greater', 'causes', 'failures', 'supernatural', 'chilling', 'recommendation', 'bo', 'laughably', 'greatly', 'frozen', 'ian', 'degree', 'creates', 'hills', 'fabulous', 'artificial', 'revealed', 'thrills', 'nowadays', 'influence', 'surrounding', 'ideal', 'performers', 'imagined', 'spirited', 'dogs', 'vivid', 'suits', 'explosions', 'lights', 'blair', 'julia', 'embarrassingly', 'atrocious', 'base', 'bargain', 'douglas', 'malone', 'worlds', 'disease', 'ought', 'washed', 'facial', 'primarily', 'drag', '1974', '1973', 'gotten', 'palace', 'antics', 'doll', 'slaves', 'interpretation', 'suffering', 'buddy', 'hunting', 'irrelevant', 'irritating', 'static', 'ho', 'aging', 'jon', 'terrifying', 'seeking', 'manage', \"o'brien\", 'frustrated', 'intentions', 'construction', 'vader', 'chewbacca', 'discovers', 'throws', 'twin', 'separated', 'rooney', 'witnessed', 'awfully', 'convince', 'scientist', 'rubber', 'lennon', 'confident', 'broke', 'giants', 'geniuses', 'frodo', 'similarly', 'fallen', 'heaven', 'trial', 'classics', 'obligatory', 'tied', 'warriors', 'professor', 'considers', 'kharis', 'priest', 'ford', 'grey', 'aunt', 'experiencing', 'flynn', 'developing', 'chair', 'virtual', 'changing', 'root', 'demille', 'led', 'scripts', 'owner', 'practically', 'string', 'ratings', 'enormous', 'provoking', 'blind', 'destroy', 'i.e.', 'range', 'originality', 'unintentionally', 'includes', 'julie', 'bbc', 'michelle', 'borrowed', 'marie', 'placed', 'cities', 'annoyed', 'fields', 'proof', '1958', 'virtually', '1980', 'burn', 'smoke', 'freak', 'lion', 'circus', 'photographed', 'fits', 'failing', 'emotionally', 'couch', 'horrific', 'rocks', 'florida', 'projects', 'mtv', 'enthusiasm', 'simplicity', 'meaningful', 'patrick', 'ensemble', 'reduced', '1990', 'multi', 'trek', 'dated', 'yesterday', 'surprises', 'breasts', 'wasting', 'reader', 'purple', 'companion', 'sun', ':)', 'text', 'beloved', 'bsg', 'handle', 'miraculously', 'letters', 'mraovich', 'opened', 'strip', 'robin', 'surface', 'infamous', 'minds', '13', 'seeks', 'humanity', 'tortured', 'ridden', 'joseph', 'bravo', 'raised', 'wwii', 'warner', 'kralik', 'passed', 'dear', 'hung', 'partly', 'conspiracy', 'ominous', 'commercial', 'ruby', 'backdrop', 'masters', 'target', 'kong', 'upset', 'ninja', 'fights', 'reminds', 'intentionally', 'curly', 'joan', 'charge', 'melodramatic', 'bush', 'rainy', 'refreshing', 'individuals', 'horrors', 'audio', 'alleged', 'cake', 'kiss', 'heston', 'dahmer', 'definite', 'stereotypical', 'detailed', 'jackie', 'wanna', 'types', 'goers', 'security', 'achieve', 'importantly', 'stood', 'references', 'troubled', 'urge', 'miyazaki', 'splatter', 'constant', 'liz', 'feminist', 'october', 'endure', 'rukh', 'radiation', 'serbs', 'reporter', 'sequels', 'spin', 'haines', 'shirley', 'survives', 'dawson', 'kelly', 'suitors', 'occasional', 'helen', 'greenstreet', 'mormon', 'conservative', 'brooklyn', 'claimed', 'shoes', 'garden', 'voices', 'gunga', 'din', 'usa', 'brilliantly', 'memoirs', 'duc', 'philip', 'risk', 'corny', 'hook', 'nicholson', 'stooges', 'matt', 'sajani', 'pole', 'performed', 'parody', 'baldwin', 'kubrick', 'p.s', 'fingers', 'dentist', 'snl', 'initial', 'blanks', 'francisco', 'cagney', 'breaking', 'todd', 'btk', 'maher', 'argument', 'reunion', 'controversial', 'barbara', 'mendes', 'kazuhiro', 'ha', 'oz', 'hank', 'dana', 'peckinpah', 'alright', 'rookie', 'bonanza', 'whitaker', 'sidney', 'muslims', 'unpleasant', 'painted', 'handful', 'interestingly', 'determine', 'biased', 'blames', 'listening', 'tear', 'inevitable', 'informed', 'tie', 'statements', 'presents', 'involve', 'rush', 'prevent', 'struggling', 'lawyer', 'homosexual', 'checking', 'grows', 'yelling', 'repeating', 'depiction', 'nineties', 'consistent', 'absence', 'satisfy', 'costume', 'adopted', 'igor', 'corpse', 'stumbles', 'disjointed', 'dan', 'internet', 'host', 'junk', 'wide', 'choices', 'nomination', 'connect', 'ear', 'passionate', 'earned', 'pleased', 'wore', 'underneath', 'perception', 'shadow', 'print', 'piano', 'inspector', 'guilty', 'naive', 'heroic', 'furious', 'improved', 'juvenile', 'largely', 'sally', 'celeste', 'slapstick', 'tradition', 'underrated', 'crisis', 'sorts', 'wreck', 'awry', 'russia', 'iran', 'neo', '50s', 'differences', 'finger', 'stiff', 'giallo', 'inhabitants', 'travel', 'remarkable', 'nelson', 'ultra', 'amusingly', 'rick', 'jonathan', 'judd', 'decisions', 'shape', 'insulting', 'wears', 'roy', 'knife', 'donna', 'regarding', 'rebel', 'tons', 'flair', 'accomplished', 'pulling', 'kyle', 'hudson', 'frost', 'dragged', 'purely', 'grab', 'highlights', 'display', 'effectively', 'rural', 'precious', 'prey', 'grow', 'muertos', 'rises', 'beats', 'translation', 'buzz', 'embarrassed', '[', ']', 'judging', 'merry', 'prone', 'excess', 'program', 'teeth', 'cosette', 'eponine', 'hundred', 'planning', 'carefully', 'succeeded', 'racial', 'campus', 'mansion', 'atmospheric', 'doors', 'ewan', 'catchy', 'prepared', 'worthless', 'universe', 'skeptical', 'colour', 'solo', 'leia', 'creatures', 'bears', 'odds', 'alternate', 'buddies', 'wake', '1976', 'personalities', 'reaction', 'recognizable', 'poetry', 'tune', 'inspiration', 'widmark', 'stolen', 'carter', 'unconvincing', 'perform', 'listed', 'siblings', 'noticeable', 'accounts', 'stopped', 'reluctant', 'mummy', 'stunt', 'goal', 'originally', 'produce', 'dose', 'aiming', 'ghosts', 'snake', 'sensitive', 'weakest', 'answers', 'wallace', 'basketball', 'abandoned', 'kicked', 'clues', 'thieves', 'spelled', 'exists', 'b.', 'civil', 'lincoln', 'immediate', 'errors', 'dysfunctional', 'possibilities', 'reports', 'protagonists', 'fired', 'enjoyment', 'research', 'summary', 'nuclear', 'monsters', 'legal', 'selfish', 'brains', 'zhang', 'politics', 'studying', 'watchable', 'charismatic', 'per', 'tarantino', 'forest', 'sheila', 'margaret', 'spell', 'anita', 'examples', 'burt', 'mcqueen', 'witness', 'cabin', 'investigate', 'threat', 'tiresome', 'afterwards', 'messed', 'astonishing', 'revolves', 'italy', 'blatantly', 'daring', '60s', 'losers', 'halfway', 'sudden', 'holiday', 'schlock', 'youthful', 'multiple', 'hungarian', 'raise', 'visiting', 'hide', 'illiterate', 'misery', 'breath', 'plastic', 'expense', 'walks', 'attend', 'debut', 'flashback', 'baker', 'technicolor', 'bucks', 'exotic', 'hoped', 'shoots', 'expression', 'lacked', 'suspenseful', 'surreal', 'explaining', 'estate', 'abilities', 'saves', 'groups', 'editor', 'overcome', 'tales', 'darn', 'techniques', 'faced', 'pushes', 'mountain', 'primitive', 'nostalgia', 'weekend', 'propaganda', 'limits', 'cox', 'digital', 'deputy', 'poke', 'romp', 'remarkably', 'shed', 'drawing', 'matuschek', 'snow', 'abrupt', 'proving', 'closing', 'cash', 'jar', 'accomplish', 'primary', '45', 'r', 'dee', 'bart', 'authority', 'mental', 'parent', 'size', 'disappear', 'flawless', 'dialogs', 'ruthless', 'elvira', 'dahl', 'thrillers', 'thrilling', 'factor', 'discussing', 'glass', 'objective', 'bashing', 'centers', 'suffered', 'firing', 'romero', 'asleep', 'mildly', 'ironic', 'armed', 'spoil', 'bank', 'vacation', 'awe', 'ad', 'gerard', 'satire', 'meatball', 'wire', 'resources', 'meaningless', '2006', 'inevitably', 'clothing', 'misguided', 'subtext', 'aired', 'jet', 'butt', 'alice', 'hong', 'nail', 'previously', 'ah', '1972', 'dictator', 'struck', 'scientists', 'captivating', 'loy', 'walter', 'superficial', 'divorce', 'sticking', 'throwing', 'bag', 'scheme', 'shades', 'credibility', 'owners', 'der', 'attract', 'trashy', 'uneven', 'hitchhiker', 'segment', 'creep', 'trapped', 'floating', 'disconcerting', 'realizes', 'lasted', 'inform', 'nation', 'dollars', 'significant', 'predecessors', 'johansson', 'screening', 'joined', 'striking', 'experiment', 'hag', 'putting', 'countless', 'complaints', 'reads', 'narration', 'identical', 'dawn', 'awards', 'honesty', 'paperhouse', 'rob', 'watches', 'conventions', 'shu', 'qi', 'sum', 'react', 'sharp', 'argue', 'technique', 'vicious', 'obnoxious', 'flash', 'gypsy', 'associated', 'entertained', 'active', 'duke', 'heights', 'portrait', 'lanisha', 'melissa', 'highest', 'bare', 'adrian', 'distributed', 'katsu', 'cents', 'threatened', 'directly', 'gradually', 'sunrise', 'patient', 'overdone', 'offside', 'mystical', 'clips', 'properly', 'hazing', 'sinatra', 'jamie', 'marlene', 'adaption', 'saint', 'pays', 'topic', '14', 'cruel', 'exist', 'destiny', 'bands', 'politician', 'courage', 'wayne', 'meadows', 'slashers', 'hackenstein', 'bike', 'executives', 'appealing', 'hooper', 'stated', 'flaw', 'tapes', 'haig', 'cheaply', 'gandhi', 'web', 'gillian', 'hawke', 'marjorie', 'adeline', 'popularity', 'grim', 'switches', 'raider', 'mature', 'thread', 'block', 'perdition', 'industrial', 'disc', 'reactor', 'morris', 'frosty', 'roddy', 'phillip', 'osa', 'asimov', '1964', 'raven', 'grendel', 'beowulf', 'poe', 'pixar', 'grasshoppers', 'ladder', 'rockets', 'reb', 'nel', 'kibbutz', 'andré', 'ogre', 'dornhelm', 'brendan', 'donnison', 'coalwood', 'forgive', 'merit', 'partition', 'labor', 'discussion', 'montage', 'eats', 'goofy', 'sounded', 'bio', 'narrated', 'typically', 'tara', 'pie', 'education', 'graveyard', 'flacks', 'destroying', 'superhero', 'ron', 'idiots', '13th', 'disfigured', 'ebert', 'intellectual', 'analysis', 'kicks', 'connected', 'repeatedly', 'assault', 'ranks', 'lam', 'legs', 'warped', 'paintings', 'coherent', 'hitchcock', 'domino', 'psycho', 'yanos', 'fiery', 'burst', 'cancer', 'imagery', 'staying', 'titled', 'westerns', 'models', 'shooter', 'lessons', 'decades', 'inane', 'intensity', 'remarks', 'sunshine', 'frustration', 'romanian', 'spaghetti', 'respected', 'healthy', 'manager', 'realizing', 'avoided', 'touched', 'excruciatingly', 'medium', 'polish', 'buster', 'crisp', 'harmless', 'alan', 'sole', 'secretly', '1940s', 'operation', 'employed', 'anderson', 'center', 'forties', 'discovering', 'shine', 'fisher', 'spoof', 'indians', 'challenge', 'international', 'appropriately', 'resulting', 'vs.', 'vain', 'minimal', 'messages', 'harmony', 'pun', 'drawbacks', 'complaint', 'jumps', 'idiotic', 'polite', 'citizens', 'enterprise', 'resembling', 'superbly', 'lesser', 'astronaut', 'split', 'gas', 'praise', 'tobe', 'innovative', 'mannered', 'mini', 'suitable', 'austen', 'comeuppance', 'lucy', 'psychic', 'fest', 'corrupt', 'cheated', 'storytelling', 'bless', 'damsel', 'duel', 'fare', 'casper', 'hoffman', 'blowing', 'peoples', 'blow', 'relative', 'sacrifice', 'presumably', 'marc', 'shoddy', 'ambitious', 'gained', 'brave', 'survived', 'h.', '19th', '20th', 'dress', 'noted', 'unable', 'encounters', 'careers', 'conviction', 'del', 'dozens', 'panic', 'legends', 'olds', 'lousy', 'aim', 'funeral', 'walken', 'dollar', 'allowing', 'obscure', 'acquired', 'st', 'claus', 'sing', 'reel', 'magician', 'delivery', 'resemble', 'wrapped', 'trio', 'causing', 'sell', 'screw', 'marius', 'revolt', 'screenwriters', 'dislike', 'attacking', 'lip', 'menacing', 'paintball', 'portrays', 'sporting', 'professionals', 'amateur', 'alongside', 'parallel', 'christ', 'noises', 'traffic', 'improvised', 'mouse', 'gathering', 'anthology', 'fourth', 'holmes', 'educational', 'russ', 'stress', 'trick', 'winters', 'purchase', 'bakshi', 'landscape', 'connections', 'jedi', 'r2', 'safe', 'yoda', 'stronger', 'escapes', 'chased', 'chasing', 'incompetent', 'mentally', 'via', 'insurance', 'jared', 'intimate', 'rank', 'tolkien', 'manipulated', 'conceived', 'liking', 'limit', 'contract', 'appalling', 'excessive', 'label', 'communist', 'contact', 'kane', 'occurs', 'principal', 'arrives', 'germs', 'conclude', 'predecessor', 'providing', 'flight', 'cable', 'threw', 'transformation', 'mild', 'postcard', 'cringe', 'toilet', 'natasha', 'unfold', 'bon', 'guitar', 'beating', 'angeles', 'crack', 'dude', 'forgets', '1st', 'combat', 'evidently', 'quarters', 'talks', 'secure', 'confederate', 'controlled', 'profound', 'breakfast', 'benefit', 'earl', 'wacky', 'represented', 'keller', 'weakness', 'creativity', 'stirring', 'equipment', 'user', 'beliefs', 'beings', 'needless', 'unfolds', 'australia', 'showcase', 'dragon', 'uninspired', 'service', 'sir', 'classes', '3rd', 'sentiment', 'fodder', 'devoid', 'subjects', 'distance', 'laws', 'physics', 'introduces', 's.', 'kay', 'acid', 'criticize', 'beatty', 'genova', 'swimming', 'serve', 'kicking', 'closer', 'con', 'sidekick', 'gritty', 'salt', 'barry', 'poignant', 'ugh', 'factory', 'craig', 'families', 'reached', 'susan', 'richardson', 'incarnation', 'dancy', 'discovery', 'blank', 'ginger', 'stinker', 'brilliance', 'diner', 'commenting', 'notable', 'stages', 'contrary', 'spoken', 'alike', 'implausibility', 'jeremy', 'matthew', 'doyle', 'nasa', 'colonel', 'ensues', 'sinister', 'randomly', 'curiosity', 'jacket', 'irony', 'whereas', 'cigarette', 'lesbian', 'suspicious', 'understood', 'ridiculously', 'miscast', 'intact', 'realm', 'waitress', 'protector', 'biker', 'abysmal', 'deeper', 'attracted', 'noll', 'dimensional', 'ocean', 'formed', 'headed', 'deserted', 'confrontation', 'county', 'occurred', 'manga', 'punches', '17', 'sophisticated', 'stereotypes', 'clue', 'battlestar', 'angel', 'anytime', 'pat', 'berlin', 'clock', 'bang', 'warrior', 'returned', 'document', 'corner', 'contained', 'co.', 'bickering', 'morgan', 'persona', 'sloppy', 'borrow', 'truck', 'lands', 'promptly', 'miserable', 'owe', 'sounding', 'mode', 'releases', 'victoria', 'indication', 'bite', 'bedroom', 'samurai', 'weaker', 'vengeance', 'exaggeration', 'shared', 'apartments', 'university', 'nicholas', 'musician', 'brady', 'widely', 'malcolm', 'defense', 'forth', 'radical', 'moody', 'blooded', 'convicted', 'blew', 'dorothy', 'population', 'scale', 'realities', 'mobile', 'prefer', 'don', 'engine', 'supported', 'someday', 'slap', 'valerie', 'dedicated', 'leslie', 'buff', 'hides', 'restaurant', 'crotch', 'remain', 'management', 'aftermath', 'void', 'generic', 'independence', 'generous', 'boom', 'innovation', 'li', 'joker', 'balance', 'ties', 'noam', 'ashwar', 'concert', 'dreyfuss', 'senses', 'ears', 'portion', 'spends', 'refer', 'furthermore', 'clown', 'dressing', 'neat', 'francis', 'condition', 'beverly', 'ethnic', 'recorded', 'trail', 'lively', 'rotten', 'pressed', 'secrets', 'spades', 'stanwyck', 'distracting', 'disappeared', 'expedition', '30s', 'vote', 'undoubtedly', 'darryl', 'infected', 'retirement', 'dutch', 'interview', 'featurette', 'pulse', 'hat', 'bam', 'function', 'helicopter', 'standout', 'olivier', 'willis', 'scientific', 'hopeless', 'transformed', 'automatic', 'awhile', 'jay', 'guarantee', 'internal', 'utah', 'dropped', 'indie', 'blade', 'abc', 'begs', 'method', 'walls', 'belong', 'performer', 'charlotte', 'staring', 'gag', 'outrageous', 'breathing', 'glued', 'sadness', 'despair', 'sandra', 'silver', 'integrity', 'mining', '1948', 'status', 'esther', 'tin', 'bollywood', 'paquin', 'leachman', 'athletic', 'predict', 'pregnant', 'arrested', 'gavin', 'preferred', '1960s', 'hiding', 'wolverine', 'shocked', 'disturbed', 'georgia', 'divorced', 'dry', 'stale', '1936', 'bullets', 'taught', 'encounter', 'stardust', 'corruption', 'stumbled', 'afford', 'hates', 'grotesque', 'insane', '1959', 'shy', 't.k', 'path', 'sivan', 'hitler', 'jealousy', 'understatement', 'newspaper', 'convertible', 'ticket', 'bearing', 'bassenger', 'rednecks', 'insert', 'nerdy', 'implausible', '2009', 'collective', 'paranoia', '98', 'teaching', 'boogeyman', 'captive', 'part2', 'expressions', 'plight', 'latest', 'tour', 'daniel', 'palma', 'measure', 'troma', 'rot', 'sin', 'ireland', 'commit', 'laboratory', 'swept', 'believed', 'tanya', 'amy', 't.v', 'captures', 'potter', 'indulgent', 'fatal', 'blunt', 'mentions', 'patients', 'desired', 'hardcore', 'sadistic', 'journalist', 'determination', 'studies', 'restored', 'substitute', 'tracks', 'manhattan', 'domestic', 'civilization', 'upbringing', 'celine', 'ethan', 'disappoint', 'maintain', 'gain', 'marty', 'powell', 'adequate', 'om', 'veteran', 'oversexed', 'outcome', 'blandings', 'muriel', 'guilt', 'sentimental', 'mcgregor', 'undead', 'sixteen', 'spots', 'practice', 'dean', 'gothic', 'rampage', 'balls', 'guards', 'data', 'scarface', 'incoherent', 'calm', 'elephant', '21st', 'distant', 'johnsons', 'cécile', 'pains', 'ghetto', 'caan', 'sweat', 'protée', 'saxon', 'tooth', 'elegant', 'alienate', 'pegg', 'jules', 'behave', 'lindy', 'giggles', 'blaise', 'chamberlain', 'holt', 'aaron', 'sammi', 'hickam', 'mines', 'fortier', 'carlito', 'mayeda', 'rebels', 'un', 'meg', 'replay', 'jonestown', 'hindus', 'region', 'cruelty', 'wrenching', 'stereotype', 'entry', 'coleman', 'legitimate', 'posters', 'challenges', 'shortcomings', 'plague', 'load', 'lucas', 'legacy', 'indiana', 'establishing', 'shoulder', '1975', 'pants', 'directions', 'arrogant', 'greg', 'phelps', 'atheist', 'christianity', 'increasingly', 'aggressive', 'screened', 'pia', 'ringo', 'thru', 'rider', 'horse', 'bleak', 'hk', 'absurdity', 'suspects', 'harvey', 'appearances', 'rourke', 'signs', 'demon', 'agrees', 'grainy', 'skating', 'justified', 'principals', 'crush', 'advances', 'transfixed', 'notions', 'fiennes', 'jealous', 'firstly', 'truthful', 'moron', 'vanilla', 'cream', 'artists', 'gifted', 'mushrooms', 'loretta', 'housewife', 'conventional', 'regardless', 'compliment', 'coincidences', 'fortune', 'identities', 'cleverly', 'verdict', 'wholly', 'performs', 'kansas', 'lit', 'dolls', 'virtue', 'lure', 'croc', 'skit', 'crocodile', 'losing', 'entered', 'arrival', 'craven', 'montana', 'delight', 'ego', 'settings', 'refuse', 'scariest', 'positively', 'copies', 'morgue', 'forwards', 'occasion', 'derek', 'ingredients', 'wet', 'frequently', 'enhances', 'unexpectedly', 'imaginative', 'comrades', 'instantly', 'slimy', 'wes', 'chills', 'samantha', 'motivated', 'greed', 'dare', 'expert', 'minded', 'pitiful', 'foolish', 'flop', 'ajay', 'foxes', 'exterminator', 'commented', 'suspension', 'staged', 'oliver', 'lyrics', 'broadway', 'garish', 'blues', 'unhappy', 'rounding', 'keith', 'j.', 'snowman', 'barker', 'dpp', 'shopping', 'aid', 'neglected', 'victorian', 'informative', 'progress', 'landmark', 'hysterical', 'gallery', 'baron', 'satanic', 'linked', 'speaks', 'uncomfortable', 'stiller', 'scores', 'acquire', 'counts', 'crushed', 'fantine', 'irresponsible', 'dandy', 'happily', 'accuracy', 'revolutionaries', 'fitting', 'javert', 'inaccurate', 'confession', 'deathbed', 'insults', 'blah', 'trains', 'website', 'lifted', '2003', 'dramatically', 'drugged', 'olivia', 'accepting', 'colleges', 'incident', 'elliott', 'lions', 'nights', 'vice', 'ambiance', 'shares', 'mechanics', 'reflection', 'circles', 'huh', 'acclaimed', 'temper', 'continue', 'othello', 'murderous', 'colman', 'edmond', 'currently', 'muddled', 'crawl', 'inspirational', 'programs', 'drew', 'spiritual', 'seldom', 'gangs', 'verge', 'empire', 'strikes', 'pretends', 'cell', 'temptation', 'worried', 'confront', 'fatty', 'psychiatrist', 'surgery', 'wonders', 'backs', '22', 'viva', 'aimed', 'approached', 'quinn', 'mccartney', 'pleasantly', 'consequently', 'priceless', 'relies', 'physically', 'robs', 'respects', 'demands', 'decline', 'pivotal', 'explores', 'tribute', 'darker', 'punishment', 'hopper', 'defend', 'microfiche', 'agents', 'examined', 'lawrence', 'alternately', 'pedro', 'punch', 'clint', 'eastwood', 'anticipation', 'technological', '400', 'eager', 'choking', 'surviving', 'wishes', 'beales', 'dances', 'boeing', 'airport', 'lara', 'jovi', 'vampiress', 'avoiding', 'seduce', 'ruins', 'museum', 'mysteriously', 'shoulders', 'midst', 'thirteen', 'porter', 'hopkins', 'spectacle', 'seth', 'jerk', 'bathroom', 'lock', 'file', 'equivalent', 'cup', 'countryside', 'drops', 'barrel', 'outline', 'shake', 'fifty', 'recognition', 'riveting', 'refined', 'pointing', 'opinions', 'mason', 'yimou', 'shi', 'smmf', 'extended', 'quentin', 'asian', 'displays', 'christie', 'royal', 'unrecognizable', 'promiscuous', 'uneducated', 'educated', 'prostitutes', 'cultural', 'borzage', 'heavenly', 'composed', 'jolie', 'uncredited', 'classy', 'meteorite', 'quietly', 'returning', 'witnesses', 'mates', 'department', 'russell', 'phillips', 'fist', 'origins', 'decision', '28', 'lay', 'steady', 'silliness', 'nephew', 'circle', 'larger', 'improve', 'engage', 'safely', 'valuable', 'organs', 'steam', 'commando', 'survival', 'foremost', 'promised', 'desperation', 'ueto', 'skirts', 'tree', 'hawaii', 'sharing', 'drunken', 'jaws', 'darren', 'showdown', 'sparks', 'quote', 'entering', 'godard', 'nerves', 'correctly', 'admirable', 'gummer', 'cinematographer', 'woven', 'fever', 'concerning', 'tank', 'dreck', 'revelation', 'precisely', 'routines', 'locale', 'lush', 'resulted', 'item', 'fonda', '90s', 'punk', 'resorting', 'crossing', 'brutally', 'exceptions', 'cafeteria', 'assassin', 'vienna', 'mcconaughey', 'dreadful', 'pretense', 'conscience', 'stretch', 'columns', 'misleading', 'kathryn', 'proportions', 'writes', 'task', 'casino', 'suggests', 'stir', 'tacky', 'horrid', 'rendition', 'realised', 'boobs', 'atlantis', 'blockbuster', 'breathtaking', 'supportive', 'palm', 'producing', 'waters', 'ricci', 'sold', 'settle', 'dealt', 'stacy', 'jumping', 'veterans', 'surfers', 'rushes', 'timeless', 'waited', 'legendary', 'perfection', 'underdeveloped', 'terrain', 'passes', 'singer', 'chime', 'pioneers', 'property', 'supply', 'gladys', 'griffith', '~', 'pretending', 'schaech', 'salvage', 'morse', 'matched', 'abusive', 'deceased', 'bell', 'aforementioned', '1933', 'accepts', 'ruth', 'lena', 'von', 'jews', 'forcing', 'scenarios', 'souls', 'promoted', 'subsequent', 'breakdown', 'lubitsch', 'merits', 'hints', 'lightweight', 'farm', 'fault', 'drawings', 'reactions', 'crippled', 'nazis', 'convoluted', 'timing', 'vaudeville', 'senile', 'decidedly', 'plantation', 'previews', 'blond', 'outer', 'characterization', 'sue', 'height', 'invincible', 'useless', 'ordered', 'esp', 'witches', 'electric', '99', 'mistress', 'horrendous', 'vincent', 'morals', 'seduction', 'mike', 'corporation', 'coaster', 'observer', 'absorbed', 'cole', 'eastern', 'omar', 'announcement', 'duration', 'official', 'sappy', 'nations', 'bold', 'notes', 'murderer', 'yugoslavia', 'experimental', 'bernie', 'fleet', 'realistically', 'kidding', 'installment', '2007', 'prohibition', 'assigned', 'woeful', 'meteor', 'claymation', 'reputation', 'participating', 'orphanage', 'lloyd', 'sturges', 'bottle', '1996', 'fur', 'hears', 'coat', 'macaulay', 'pushing', 'gracie', 'notably', 'heels', 'decapitated', 'afterward', 'cartoons', 'assembled', 'ease', 'upside', 'morbid', 'implication', 'premiere', 'similarities', 'stabs', 'astro', 'dub', 'sailor', 'hunters', 'wealth', 'crusade', 'assassination', 'diane', 'ish', 'ross', 'thick', 'advise', 'min', 'assumed', 'exercise', 'draws', 'worn', 'smoking', 'delves', 'betrayal', 'godfather', 'plaything', 'swedish', 'frontal', 'sleazy', 'undertones', 'ya', 'difficulty', 'abruptly', 'varied', 'bent', 'affect', 'insipid', 'bloom', 'pollack', 'anger', 'achieved', 'masterpieces', 'pills', 'deemed', 'specifically', 'archaic', 'fart', 'butch', 'messy', 'refrigerator', 'cheese', 'obsessive', 'warren', 'downbeat', 'doubts', 'likewise', 'goldblum', 'eerie', 'stylish', 'lends', 'wardrobe', 'promote', 'outing', 'dreadfully', 'loosely', 'raft', 'knock', 'wealthy', 'fairbanks', 'diary', 'gather', 'fontaine', 'sellers', 'atrocity', 'globe', 'orlando', 'saga', 'jennifer', 'coma', 'vixen', 'noise', 'grabs', 'maintaining', 'bela', 'stan', 'unit', 'wretched', 'reasonable', 'unrelated', 'bombs', 'denial', 'pro', 'neutral', 'ambition', 'inadvertently', 'parks', '16', 'wished', 'millions', 'bruckheimer', 'filmography', 'weaves', 'dwelling', 'danny', 'pitch', 'clip', 'episodic', '1963', 'hokey', 'card', 'seduced', 'suave', 'knocked', 'harold', 'killian', 'nyc', 'tap', 'pool', 'buildings', 'recording', 'crying', 'zealand', 'glaring', 'hackneyed', 'severely', 'wildly', '=', 'preposterous', 'beaten', 'madness', 'testament', 'servants', 'bowl', 'pertinent', 'rumors', 'chainsaw', 'stomach', 'cherish', 'ferrell', 'rod', 'covering', 'mountains', 'comedian', 'moronic', 'wounds', 'rapid', 'flashy', 'vs', 'satellite', 'emerge', 'edges', 'devine', 'nolan', 'renaissance', 'understandable', 'conditions', 'wings', 'deliverance', 'immature', 'sheeta', 'dubbing', 'frightened', 'gable', 'frequent', 'hammer', 'meyer', 'ads', 'shines', 'stinks', 'geico', 'ps', 'elm', 'helpful', 'cook', 'mockumentary', 'thoughtful', 'format', 'hazzard', 'daisy', 'dukes', 'spare', 'hop', 'crown', 'separate', 'luxury', 'stopping', 'visited', 'sums', 'shower', 'competition', 'relations', 'violated', 'exceptionally', 'russians', 'faster', 'oates', 'capitalism', 'injured', 'jarring', 'topics', 'alarm', 'declare', 'arrive', 'illustrate', 'qualifies', 'stunts', 'celebrated', 'capacity', 'partner', 'disappears', 'terrorist', '1930', 'enigmatic', 'bikini', 'basinger', 'hunted', 'toys', 'sho', 'friendships', 'expressed', 'houses', 'garner', 'catalog', 'replaced', 'flow', 'choreographed', 'preacher', 'havoc', 'egg', 'paying', 'barney', 'sammy', 'epics', 'clarence', 'recognized', 'emerging', 'recreate', 'filling', '1956', 'turner', 'loads', 'ignorant', 'rapidly', 'vulgar', 'labeled', 'suffice', '8th', 'deanna', 'bullying', 'delon', 'tessari', 'cheating', 'sentence', 'max', 'widow', 'fireworks', 'fluff', 'bilal', 'reagan', 'chaos', 'hiring', 'daddy', 'taxi', 'pattern', 'billing', 'lighthearted', 'fx', 'guest', 'pleasures', 'shattered', 'masses', 'katie', 'puppy', 'grin', 'jake', 'depression', 'sherry', 'garris', 'mayhem', 'hungry', 'attraction', 'motives', 'bitch', 'cheek', 'ifans', 'hay', 'wartime', 'explosive', 'blows', 'grinch', '35', 'dvds', 'videos', 'behaving', 'inaccuracies', 'hellborn', 'asylum', 'resident', '1930s', 'drop', 'favorites', 'imitation', 'silence', 'cynicism', 'farmer', 'lollobrigida', 'tulipe', 'landscapes', 'cyborg', 'mel', 'responsibility', 'covers', 'coverage', 'slaughter', 'sesame', 'teach', 'boredom', 'bible', 'demonic', 'bin', 'rambling', 'threads', 'noticing', 'credited', 'encouraged', 'habit', 'capote', 'pg', 'harder', 'oldest', 'league', 'royston', 'vasey', 'driver', 'vet', 'ham', 'ax', 'parnell', 'gangsters', 'sullivan', 'transforms', 'easier', 'evans', 'fosters', 'dogma', 'files', 'upcoming', 'shelf', 'ball', 'hairy', 'alcohol', 'sediment', 'spilled', 'rough', 'negatives', 'commander', 'tremors', 'stole', 'dancer', 'ammo', 'elevator', 'vets', 'outfits', 'qualified', 'adored', '500', 'chain', 'subjected', '-and', 'changeling', 'convicts', 'prisoner', 'gigi', 'olga', 'unforgettable', 'tulip', 'colored', 'mac', 'safety', 'studs', 'wolves', 'clinton', 'pilger', 'garcia', 'poem', 'colin', 'titles', 'continued', 'whack', 'penn', 'flik', 'territory', 'centered', 'louque', 'cambodia', '1968', 'nino', 'vicky', 'argonne', 'oak', 'ridge', 'drummond', 'balanchine', '1993', 'lou', 'pernell', 'gunfights', 'visconti', 'provoke', 'spending', 'zoe', 'puerto', 'ebts', 'loulou', 'laura', 'lucienne', 'corporate', 'gulfax', 'voyna', 'mir', 'radar', 'saddles', 'hasselhoff', 'exploit', 'inhumanity', 'faults', 'pakistan', 'heartbreaking', 'donuts', 'admiration', 'concentrate', 'staggering', 'devotion', 'operating', 'tag', 'drown', 'reid', 'comforting', 'voted', 'raises', 'convention', 'bantam', 'jumped', 'earnest', 'bronze', 'accompanied', 'diego', 'freshman', 'heartfelt', 'motions', 'briggs', 'positions', 'islam', 'baptist', 'triad', 'outsiders', 'compromise', 'compares', 'swords', 'horses', 'imprisoned', 'similarity', 'veers', 'grudge', 'phil', 'sparse', 'amazingly', 'pirate', 'graphically', 'slaughterhouse', 'butcher', 'doomed', 'traumatic', 'nuns', 'lab', 'hire', 'stalking', '1977', 'jansen', 'voyage', 'tuned', 'swear', 'leaning', 'hmm', 'outdated', 'refers', 'shook', 'relic', 'wins', 'nominations', 'joking', \"c'm\", 'kik', 'triangle', 'kiki', 'humorless', 'slice', 'blessed', 'charisma', 'naturally', 'serving', 'nuts', 'codger', 'define', 'adventurous', 'mama', 'vulnerable', 'cu', 'abound', 'calendar', 'photo', 'drums', 'milk', 'ella', 'commend', 'convinces', 'curtis', 'alliance', 'alternative', 'telegraphed', 'beg', 'steer', 'misplaced', 'stormy', 'oppressive', 'marginally', 'unaware', '1950', 'hilarity', 'happiness', 'niece', 'deaf', 'barnes', 'cathy', 'rid', 'goldberg', 'carrie', 'nails', 'doctors', 'proudly', 'societies', 'louise', 'located', 'illustrated', 'wwi', 'mentality', 'criticism', 'hatred', 'dish', 'chaplin', 'carbon', 'sewn', 'kirk', 'mccoy', 'librarian', 'interrupted', '17th', 'exiled', 'wolfe', 'rebar', 'saturn', 'burr', 'debenning', 'ingenious', 'enjoyably', 'respectable', 'melt', 'demme', 'midnight', 'catching', 'ashley', 'relaxed', 'layers', 'tad', 'addict', 'rooting', 'morally', 'arch', 'maturity', 'duds', 'brand', 'worship', 'mall', 'screwed', 'slept', 'stepping', 'madonna', 'girlfriends', 'marilyn', 'calibre', 'commandos', 'karate', 'disastrous', 'mattered', 'satirical', 'intent', 'alienation', 'sirk', 'hadley', 'nymphomaniac', 'pretension', 'farther', 'clive', 'a+', 'banning', 'amazon', 'plods', 'diabolical', 'furs', 'gems', 'monkey', 'roller', '2005', 'g.', '1900', 'literature', '1920s', 'victory', 'curate', 'nervous', 'nest', 'cheerful', 'senseless', '2nd', 'distorted', 'mariscal', 'infierno', 'possessed', 'drags', 'werewolf', '1971', 'speeches', 'sleaze', 'clumsy', 'emily', 'disappearing', 'overrated', 'theaters', 'maker', 'apes', 'dimension', 'proceedings', 'essential', 'wackiness', 'celestial', 'wizard', 'dracula', 'shenanigans', 'projected', 'bay', 'bishop', 'mayor', 'spit', 'convent', 'reform', 'hugo', 'mannerisms', 'barricades', 'tearing', 'skipping', 'airball', 'teams', 'storyboard', 'andrew', 'encourage', 'thumbs', 'artsy', 'homo', 'fathers', 'indicate', 'ark', 'drones', 'melancholy', 'endlessly', 'tchaikovsky', 'designer', 'popping', 'nothingness', 'behold', 'definition', 'hum', 'schools', 'equality', 'ethnicity', 'belonging', 'attended', 'caucasian', 'pray', 'exaggerated', 'depends', 'minus', 'exaggerations', 'wax', 'chewing', 'cape', 'gate', 'hustler', 'sensual', 'motorcycle', 'bender', 'clay', 'disco', 'thumb', 'crop', 'mythology', 'unnatural', 'distinctive', 'collins', 'whit', 'slows', 'collectors', 'rude', 'fragile', 'insights', 'achieves', 'c3po', 'reward', 'chewie', 'skywalker', 'wan', 'combine', 'arbuckle', 'guaranteed', 'cure', 'staff', '200', 'tackling', 'gecko', 'laughlin', 'ripped', 'bullet', 'expects', 'lindsay', 'beatles', 'counterparts', 'fond', 'homage', 'limp', 'camaraderie', 'sings', 'stumbling', 'visible', 'portions', 'nicolas', 'reasonably', 'haunt', 'victimized', 'conveyed', 'peters', 'wallet', 'criminals', 'praised', 'blend', 'citizen', 'voters', 'rightly', 'airplane', 'lapses', 'edgy', 'yuma', 'exterior', 'replacement', 'exchange', 'adams', 'misses', 'zulu', 'tribes', 'achievement', '150', 'casualty', 'succeed', 'malaria', 'affecting', 'threatens', 'marxist', 'patriarch', 'assistant', 'outlandish', 'liquid', 'carnage', 'gaps', 'preparing', 'grass', 'arm', 'maysles', 'gardens', 'eccentric', 'bouvier', 'cats', 'mobsters', 'casts', 'lemon', 'rivers', 'canadian', 'col', 'creepiness', 'carpenter', 'leather', 'transparent', 'zoey', 'dunk', ';)', 'ignore', 'guzman', 'rockwell', 'deservedly', 'mandy', 'brandon', 'heist', 'rewarded', 'surprising', 'prevalent', 'sneak', 'thoughtlessness', 'climatic', 'backward', 'buffalo', 'a.', 'selling', 'april', 'pardon', 'errol', 'occupied', 'creator', 'textbook', 'quotable', 'christine', 'rotting', 'quirky', 'escalating', 'wandering', 'subconscious', 'wound', 'difficulties', 'laptop', 'relax', 'goodness', 'summed', 'camcorder', 'stupidly', 'travesty', 'asset', 'prejudices', 'roof', 'perspectives', 'sorcery', 'conveying', 'clueless', 'tricked', 'subpar', 'distinct', 'induce', 'menace', 'glenda', 'smaller', 'patsy', 'pierce', 'overweight', 'mouthed', 'neglect', 'dim', 'redeemed', 'gossip', 'celebration', 'undertext', 'meal', 'contempt', 'object', 'evident', 'backgrounds', 'illness', 'duchovny', 'lang', 'amusement', 'balcony', 'flies', 'unwisely', 'pokes', 'laying', 'hallan', 'dave', 'hating', 'bert', 'miller', 'elaborate', 'practical', 'strongest', 'conflicts', 'appreciation', \"'em\", 'duo', 'roommates', 'directorial', 'idol', 'thirties', 'snap', 'cuba', 'sync', 'cooking', 'sprinkled', 'horny', 'intestines', 'telly', 'logo', 'abiding', 'cookie', 'pursuit', 'brass', 'dustin', 'symbolic', 'pops', 'prisoners', 'coca', 'hungary', 'sh!t', 'turgid', 'shops', 'flickering', 'kolchack', 'stunned', 'reeks', 'comfort', 'inadequate', 'walked', 'shaky', 'koltai', 'hallucination', 'sentimentality', 'mothers', 'eileen', 'atkins', 'platform', 'newport', 'vaguely', 'wesley', 'chooses', 'flag', 'likelihood', 'position', 'switch', 'stacking', 'askey', 'espionage', 'neatly', 'stack', 'stream', 'bench', 'foreground', 'framing', 'voyager', 'confined', 'wobbly', 'suggestion', 'occasions', 'reaching', 'peak', 'knockout', 'booth', 'reflect', 'orbit', 'bleed', 'published', 'flashing', 'healing', 'apologize', 'prior', 'applaud', 'pale', 'unreal', 'petty', 'akin', 'arcane', 'codes', 'fury', 'gambling', 'astor', 'blatant', 'hodiak', 'chock', 'undeveloped', 'thereof', 'penny', 'ward', 'phenomenal', 'transition', 'unwatchable', 'tastes', 'proceeds', 'berserk', 'selection', 'tunnel', 'mail', 'turd', 'reese', 'famously', 'pursued', 'raw', 'lasting', 'differently', 'bonds', 'hers', 'newer', 'pearl', 'greatness', 'translated', 'subplot', 'continuously', 'orange', 'captivated', 'catholics', 'affects', 'geography', 'owen', 'yankee', 'innocently', 'guinea', 'pig', 'receives', 'address', 'testing', 'chic', 'kissed', 'foreigners', 'thaw', 'gruff', 'scrooge', 'robinson', 'admitted', 'minimum', 'prospect', 'cleaned', 'penned', 'excellently', 'illinois', 'suspend', 'greedy', 'bacon', 'porno', 'beckinsale', 'knightly', 'alert', 'officers', 'begun', 'scored', 'anticipated', 'diana', 'superman', 'tragedies', 'spotlight', 'http', 'molly', 'dropping', 'warming', 'clash', 'pimp', 'du', 'righteous', 'budapest', 'realises', 'meek', 'dreamy', 'harm', 'mercifully', 'deteriorated', 'agricultural', 'grain', 'wheat', 'distress', 'voiced', 'collar', 'wherein', 'leg', 'timothy', 'existential', 'uniquely', 'dilemma', 'marcel', 'formidable', 'skill', 'voodoo', 'nightmares', 'bags', 'autopsy', 'boomslang', 'fay', 'sentiments', 'thematics', 'continent', 'seasons', '24', 'patriots', 'feminine', 'inventive', 'handling', 'premises', 'b5', 'dumber', 'spells', 'forty', 'figured', 'getaway', 'votes', 'psychotic', 'forgetting', 'kari', 'distracted', 'unbalanced', 'unsympathetic', 'discipline', 'rampant', 'cusack', 'duff', 'marisa', 'venezuelan', 'supporter', 'y', 'elections', 'civilians', 'civilian', 'kudos', 'christians', 'manipulative', 'joins', 'magically', 'patriot', 'requisite', 'gutter', 'marks', 'lisa', 'hangs', ':-)', 'secondary', 'manipulating', 'surrender', 'zeon', 'neighbor', 'pocket', 'sweeping', 'bonding', 'devastating', 'surpasses', 'conveys', 'closest', 'greengrass', 'organization', 'hart', 'denying', 'e.g.', 'crain', 'buttons', 'trend', 'aquatic', 'bumbling', 'arnie', 'e.', 'sank', 'auction', 'adoption', 'agency', 'darling', 'wheeler', 'dealer', 'rooted', 'submit', 'naughty', 'preston', 'possession', 'cruella', 'obsession', 'dime', 'assembly', 'biting', 'depardieu', 'unbearable', 'funhouse', 'upper', 'jenna', 'plausible', 'burton', 'chimp', 'nakedness', 'inferior', 'threats', 'trained', 'specifics', 'requires', 'yellow', 'dagger', 'ransom', 'soil', 'usage', 'bean', 'archives', 'abigail', 'betsy', 'deserving', 'rear', 'deleted', 'faint', 'clair', 'spoiling', 'penguin', 'chan', 'pg-13', 'reloaded', 'males', 'screwball', 'lust', 'interactions', 'helpless', 'tame', 'benefited', 'patriotic', 'amateurs', 'significantly', 'glances', 'agreed', 'roughly', 'replacing', 'replace', 'poverty', 'farce', 'hurts', 'switzerland', 'contemplating', 'nolte', 'gentlemen', 'quantum', 'pink', 'counter', 'proclaimed', 'shift', 'rabbit', 'anal', 'myrna', 'bergman', 'd&d', 'sundance', 'detrimental', 'neatness', 'versus', 'booze', 'altogether', 'confesses', 'roommate', 'helping', 'caliber', 'offbeat', 'impressively', 'exploitative', 'shocks', 'patterns', 'vividly', 'grisly', 'orbach', 'cristina', 'favour', 'worrying', 'architect', 'decoration', 'ashamed', 'distributors', 'beek', 'literal', 'complaining', 'cinderella', 'fuzzy', 'sore', 'irritated', 'tendency', 'gornick', 'brushes', 'unbearably', 'dialogues', 'glowing', 'robbed', 'factors', 'avenger', 'heading', 'gooey', 'chords', 'concludes', 'gigolo', 'bone', 'grande', 'asia', 'lone', 'whitney', 'iron', 'thug', 'monty', 'evolution', 'awesomely', 'generate', 'columbia', 'rage', 'defined', 'pullman', 'gellar', 'yours', 'survivor', 'apology', 'ridicule', 'richly', 'styles', 'marvellous', 'cinematographic', 'janos', 'drake', 'ollie', 'ragged', 'evaluate', 'genocide', 'slovenians', 'slovenia', 'yna', 'outraged', 'accusations', 'mentioning', 'vukovar', 'committing', 'resistance', 'collaboration', 'bosnian', 'borders', 'masterfully', 'sincere', 'destructive', 'consideration', 'skins', 'evokes', 'wayan', 'recover', 'indulge', 'giovanni', 'ribisi', 'screws', 'spiral', 'arrived', 'partners', 'imitating', 'lunch', 'readers', 'scoop', 'notorious', 'ta', 'oklahoma', 'advertised', 'demonstrated', 'economy', 'collapsed', 'materials', 'stalkers', 'meantime', 'amber', 'busted', 'suspected', 'communism', 'cries', 'q', 'finch', 'admired', 'row', 'empathy', 'professors', 'lowe', 'bachelor', 'referred', 'hotter', 'chalk', 'sentences', 'upstage', 'intrigue', 'semblance', 'activities', 'unimaginative', 'kissing', 'kisses', 'winded', 'summarize', 'approaching', 'tactics', 'kerry', 'campaign', 'methods', 'agencies', 'politically', 'division', 'miracle', 'avid', 'admittedly', 'infused', 'polar', 'shadows', 'ricky', 'breast', 'fish', 'aesthetic', 'overacting', 'clerics', 'brotherhood', 'priests', 'versa', 'raymond', 'exploring', 'biz', 'breed', 'smoked', 'troy', 'arrow', 'defence', 'heat', 'hans', 'zimmer', 'cd', 'elliot', 'chops', '1986', 'mustache', 'retarded', 'verneuil', 'commission', 'gunman', 'montand', 'actuality', 'precise', 'insects', 'bitten', 'rescued', 'crawling', 'wider', 'coupled', 'remove', 'persons', 'elementary', 'unlikable', 'amanda', 'peet', 'link', 'canyon', 'grip', 'leigh', 'maggie', 'announced', 'comparable', 'barrymore', 'buffs', 'poetic', 'shootings', 'bones', 'parable', '2002', 'unfair', 'pazu', 'wakes', 'cloris', 'photograph', 'tool', 'harlow', 'swift', 'crooked', 'dame', 'rival', 'slightest', 'activity', 'cuban', 'commendable', 'brooke', 'harrison', 'valley', 'intentional', 'incidental', 'intrusive', 'association', 'canceled', 'signed', 'backdrops', 'misconceptions', 'representation', 'telescope', 'powerfully', 'searched', 'patience', 'nacho', 'smiling', 'supports', 'preached', 'session', 'vile', 'sought', 'gut', 'atlanta', 'emphasize', 'reynolds', 'salesman', 'ned', 'pipe', 'nightmarish', 'spencer', 'cheaper', 'closed', 'marching', 'parade', 'moms', 'winds', 'drift', 'rosario', 'murderers', '1.5hrs', 'useful', 'violin', 'diplomat', 'undermine', 'fiend', 'posing', 'commentator', 'preview', 'clumsily', 'economically', 'judgmental', 'insists', 'legion', 'credentials', 'goyôkiba', 'penis', 'hilariously', 'pintilie', 'expose', 'vonnegut', 'climb', 'hello', 'ivory', 'rains', 'romances', 'occur', 'declared', 'regain', 'presume', 'goodman', 'recruits', 'haunts', 'disdain', 'critique', 'sharply', 'skull', 'reviewer', 'phrase', 'nagra', 'rhys', 'encourages', 'issue', 'filler', 'lift', 'regrets', 'deepest', 'sand', 'monk', 'bulk', 'rely', 'tea', 'driveway', 'pen', 'bars', 'linda', 'satisfied', 'dud', 'metaphysical', 'ships', 'authorities', 'gorilla', 'initially', 'mocking', 'kenneth', 'stabbing', 'pathos', 'inappropriate', 'fanatic', 'pack', 'tremendous', 'gettaway', 'shady', 'lynch', 'fitzgerald', 'graham', 'fancy', 'toby', 'hinted', 'wreak', 'token', 'fog', 'slim', 'mournful', 'i.q', 'scholarship', 'tidy', 'freezer', 'circumstance', 'seats', 'esque', 'ant', 'lds', 'jerks', 'jezebel', 'mitchell', 'texans', 'ohio', 'edition', 'unbelievably', 'describes', 'exploits', 'che(2008', 'excuses', 'stratton', 'hindsight', 'peasants', 'part1', 'outlook', 'deltoro', 'excruciating', 'latinos', 'entice', 'cinemas', 'observed', 'populated', 'dietrich', '1938', 'boyer', 'enlightened', 'sacrifices', 'demented', 'alluded', 'yea', 'lowest', 'alicia', 'christensen', 'goth', 'yard', 'yarn', 'naval', '1949', 'spout', 'quaint', 'swell', 'remakes', 'marines', 'ourselves', 'inventor', 'colorless', 'horus', 'reflects', 'thugs', 'deranged', 'undermines', 'sins', 'yells', 'spatial', 'slack', 'resolved', 'eternity', 'choreographer', 'misunderstandings', 'interludes', 'servant', 'discreet', 'damme', 'triumph', 'kingdom', 'dj', 'cons', 'lick', 'loaded', 'padding', 'bath', 'sofa', 'officially', 'hostel', 'ira', 'protestant', 'disgust', 'cards', 'manipulate', 'bailey', 'females', 'marshall', 'ignored', 'rejected', 'establish', 'judges', 'error', 'sandrich', 'bake', 'brunette', 'deathly', 'schemes', 'colbert', 'nuances', 'exploding', 'uwe', 'boll', 'haha', 'terror', 'sleepwalkers', 'amick', 'retrieve', 'adorable', 'bites', 'displaying', 'welcomed', 'unconscious', 'experts', 'turkey', 'clinic', 'giancarlo', 'rub', 'intruder', 'virus', 'yada', 'decor', 'tango', 'learnt', 'fling', 'slut', 'lane', 'mortensen', 'rack', 'disturb', 'incorrect', 'insultingly', 'stein', 'orwellian', 'boils', 'centuries', 'vance', 'contextual', 'deck', 'lili', 'necessarily', 'inconsistent', 'grips', 'attenborough', 'towns', 'penelope', 'peaceful', 'explanations', 'geek', 'shameful', 'bacall', 'haley', 'terrorism', 'beneath', 'restores', 'organized', 'linklater', 'laced', 'lays', 'ala', 'wit', 'tables', 'fireplace', 'terry', 'sensible', 'philipe', 'truffaut', 'facility', 'hazel', 'hometown', 'nerd', 'switching', 'kennel', 'phase', 'infantile', 'map', 'ditched', 'c-', 'illogical', 'global', 'jeepers', 'creepers', 'weirdo', 'leo', 'remembering', 'article', 'blake', 'household', 'threatening', 'profanity', 'tritter', 'vindictiveness', 'freeze', 'hurting', 'neil', 'filmmaking', 'accessible', '1990s', 'trademarks', 'tubbs', 'moreover', 'basket', 'boothe', 'pamela', 'immense', 'ally', 'd-', 'benny', 'pit', 'autobiographical', 'cary', 'connecticut', 'planned', 'cheering', 'buscemi', 'cringeworthy', 'weaponry', 'heyday', 'stretched', 'broad', 'youtube', '1979', '1981', 'fiancée', 'mae', 'downstream', 'hydraulic', 'colorful', 'helmer', 'chop', 'trials', 'stranger', 'shrek', 'natured', 'stahl', 'wander', 'packs', 'graves', 'tops', 'magical', 'apollonia', 'stadium', 'cherry', 'rats', 'gaming', 'spelling', 'bunker', 'creators', 'varying', 'silently', 'artillery', 'slamming', 'sickness', 'sibrel', 'marrying', 'digger', 'winstone', 'janet', 'sending', 'landed', 'inhabited', 'curiously', 'dates', 'toddler', 'intention', 'affable', 'replies', 'jock', 'apologies', 'maureen', 'chronicles', 'deciding', 'devoted', 'tyler', 'chicago', 'brando', 'tricks', 'supremacy', 'roses', 'blended', 'trace', 'dash', 'sexuality', 'bondage', 'impudent', 'steiner', 'champagne', 'bravado', 'rave', 'sympathize', 'expensive', 'safari', 'standpoint', 'congorilla', 'spill', 'automatically', 'erich', \"l'anglaise\", 'toronto', 'shaped', 'parisian', 'shred', 'chad', 'conductor', 'millionaire', 'pride', 'artifacts', 'acceptance', 'elite', 'locken', 'sterling', 'nonetheless', 'prices', 'net', 'kidnappers', 'leap', 'delicate', 'jails', 'metschurat', 'rewarding', 'bald', 'paranormal', 'colonialism', 'bronson', 'critic', 'setup', 'shearer', 'essence', 'sponge', 'coast', 'cartouche', 'criterion', 'paradise', 'kitten', 'cajuns', 'mia', 'walker', 'penguins', 'titular', 'mount', 'storm', 'cap', 'islanders', 'documents', 'pin', 'mullet', 'compound', 'hallway', 'widowed', 'thunderbird', 'damaged', 'uncritical', 'invited', 'heavies', 'edgar', 'chances', 'stilted', 'monstervision', 'shrine', 'lupino', 'bridges', 'developments', 'wtc', 'portuguese', 'della', 'coups', 'contractor', 'coaxes', 'comprised', 'hypnotized', 'mabuse', '1922', 'greyson', '1957', '1932', 'attained', 'sollett', 'tighter', 'thailand', 'pimlico', 'zinn', 'assuming', 'algy', 'lopez', 'samuel', 'roads', 'onstage', 'baryshnikov', 'exceptional', 'blocker', 'hoss', 'cain', 'mameha', 'patron', 'shaved', 'spice', 'goodbye', 'rehearsal', 'affection', 'illustrious', 'priyadarshan', 'michell', 'rosie', 'hamilton', 'surfer', 'trade', 'billions', 'ness', 'frankie', 'pyle', 'hailed', 'abducted', 'lately', 'ape', 'fletcher', 'segments', 'realise', 'lumet', 'heaton', 'hines', 'aborigines', 'recklessness', 'meighan', 'everytown', 'chavez', 'munster', \"o'dell\", 'riley', 'profiler', 'mariner', 'vollins', 'gosha', 'blazing', 'witchcraft', 'casa', 'ghosthouse', 'faust', 'xxfake', 'xxfake'], ['negative', 'positive']]\n"
     ]
    },
    {
     "data": {
      "text/html": [
       "<table border=\"1\" class=\"dataframe\">\n",
       "  <thead>\n",
       "    <tr style=\"text-align: right;\">\n",
       "      <th></th>\n",
       "      <th>text</th>\n",
       "      <th>category</th>\n",
       "    </tr>\n",
       "  </thead>\n",
       "  <tbody>\n",
       "    <tr>\n",
       "      <th>0</th>\n",
       "      <td>xxbos xxup the xxup shop xxup around xxup the xxup corner is one of the xxunk and most feel - good romantic comedies ever made . xxmaj there 's just no getting around that , and it 's hard to actually put one 's feeling for this film into words . xxmaj it 's not one of those films that tries too hard , nor does it come up with the xxunk possible scenarios to get the two protagonists together in the end . xxmaj in fact , all its charm is xxunk , contained within the characters and the setting and the plot … which is highly believable to xxunk . xxmaj it 's easy to think that such a love story , as beautiful as any other ever told , * could * happen to you … a feeling you do n't often get from other romantic comedies</td>\n",
       "      <td>positive</td>\n",
       "    </tr>\n",
       "    <tr>\n",
       "      <th>1</th>\n",
       "      <td>xxbos xxmaj now that xxmaj che(2008 ) has finished its relatively short xxmaj australian cinema run ( extremely limited xxunk screen in xxmaj xxunk , after xxunk ) , i can xxunk join both xxunk of \" at xxmaj the xxmaj movies \" in taking xxmaj steven xxmaj soderbergh to task . \\n\\n xxmaj it 's usually satisfying to watch a film director change his style / subject , but xxmaj soderbergh 's most recent stinker , xxmaj the xxmaj girlfriend xxmaj xxunk ) , was also missing a story , so narrative ( and editing ? ) seem to suddenly be xxmaj soderbergh 's main challenge . xxmaj strange , after 20 - odd years in the business . xxmaj he was probably never much good at narrative , just xxunk it well inside \" edgy \" projects . \\n\\n xxmaj none of this excuses him this present ,</td>\n",
       "      <td>negative</td>\n",
       "    </tr>\n",
       "  </tbody>\n",
       "</table>"
      ],
      "text/plain": [
       "<IPython.core.display.HTML object>"
      ]
     },
     "metadata": {},
     "output_type": "display_data"
    }
   ],
   "source": [
    "\n",
    "path = untar_data(URLs.IMDB_SAMPLE)\n",
    "dls = TextDataLoaders.from_csv(\n",
    "    path=path,\n",
    "    csv_fname='texts.csv',\n",
    "    text_col='text',\n",
    "    label_col='label',\n",
    "    valid_pct=0.2,\n",
    "    bs=64  # batch size\n",
    ")\n",
    "\n",
    "print(\"Clases encontradas:\", dls.vocab)\n",
    "dls.show_batch(max_n=2)\n"
   ]
  },
  {
   "cell_type": "code",
   "execution_count": 6,
   "id": "d881fb16",
   "metadata": {},
   "outputs": [
    {
     "data": {
      "text/html": [
       "\n",
       "<style>\n",
       "    /* Turns off some styling */\n",
       "    progress {\n",
       "        /* gets rid of default border in Firefox and Opera. */\n",
       "        border: none;\n",
       "        /* Needs to be in here for Safari polyfill so background images work as expected. */\n",
       "        background-size: auto;\n",
       "    }\n",
       "    progress:not([value]), progress:not([value])::-webkit-progress-bar {\n",
       "        background: repeating-linear-gradient(45deg, #7e7e7e, #7e7e7e 10px, #5c5c5c 10px, #5c5c5c 20px);\n",
       "    }\n",
       "    .progress-bar-interrupted, .progress-bar-interrupted::-webkit-progress-bar {\n",
       "        background: #F44336;\n",
       "    }\n",
       "</style>\n"
      ],
      "text/plain": [
       "<IPython.core.display.HTML object>"
      ]
     },
     "metadata": {},
     "output_type": "display_data"
    },
    {
     "data": {
      "text/html": [
       "<table border=\"1\" class=\"dataframe\">\n",
       "  <thead>\n",
       "    <tr style=\"text-align: left;\">\n",
       "      <th>epoch</th>\n",
       "      <th>train_loss</th>\n",
       "      <th>valid_loss</th>\n",
       "      <th>accuracy</th>\n",
       "      <th>time</th>\n",
       "    </tr>\n",
       "  </thead>\n",
       "  <tbody>\n",
       "    <tr>\n",
       "      <td>0</td>\n",
       "      <td>0.618220</td>\n",
       "      <td>0.609347</td>\n",
       "      <td>0.690000</td>\n",
       "      <td>00:02</td>\n",
       "    </tr>\n",
       "  </tbody>\n",
       "</table>"
      ],
      "text/plain": [
       "<IPython.core.display.HTML object>"
      ]
     },
     "metadata": {},
     "output_type": "display_data"
    },
    {
     "data": {
      "text/html": [
       "\n",
       "<style>\n",
       "    /* Turns off some styling */\n",
       "    progress {\n",
       "        /* gets rid of default border in Firefox and Opera. */\n",
       "        border: none;\n",
       "        /* Needs to be in here for Safari polyfill so background images work as expected. */\n",
       "        background-size: auto;\n",
       "    }\n",
       "    progress:not([value]), progress:not([value])::-webkit-progress-bar {\n",
       "        background: repeating-linear-gradient(45deg, #7e7e7e, #7e7e7e 10px, #5c5c5c 10px, #5c5c5c 20px);\n",
       "    }\n",
       "    .progress-bar-interrupted, .progress-bar-interrupted::-webkit-progress-bar {\n",
       "        background: #F44336;\n",
       "    }\n",
       "</style>\n"
      ],
      "text/plain": [
       "<IPython.core.display.HTML object>"
      ]
     },
     "metadata": {},
     "output_type": "display_data"
    },
    {
     "data": {
      "text/html": [
       "<table border=\"1\" class=\"dataframe\">\n",
       "  <thead>\n",
       "    <tr style=\"text-align: left;\">\n",
       "      <th>epoch</th>\n",
       "      <th>train_loss</th>\n",
       "      <th>valid_loss</th>\n",
       "      <th>accuracy</th>\n",
       "      <th>time</th>\n",
       "    </tr>\n",
       "  </thead>\n",
       "  <tbody>\n",
       "    <tr>\n",
       "      <td>0</td>\n",
       "      <td>0.426003</td>\n",
       "      <td>0.532202</td>\n",
       "      <td>0.735000</td>\n",
       "      <td>00:07</td>\n",
       "    </tr>\n",
       "    <tr>\n",
       "      <td>1</td>\n",
       "      <td>0.372444</td>\n",
       "      <td>0.426498</td>\n",
       "      <td>0.810000</td>\n",
       "      <td>00:11</td>\n",
       "    </tr>\n",
       "    <tr>\n",
       "      <td>2</td>\n",
       "      <td>0.303386</td>\n",
       "      <td>0.411257</td>\n",
       "      <td>0.805000</td>\n",
       "      <td>00:12</td>\n",
       "    </tr>\n",
       "    <tr>\n",
       "      <td>3</td>\n",
       "      <td>0.248246</td>\n",
       "      <td>0.392918</td>\n",
       "      <td>0.830000</td>\n",
       "      <td>00:12</td>\n",
       "    </tr>\n",
       "  </tbody>\n",
       "</table>"
      ],
      "text/plain": [
       "<IPython.core.display.HTML object>"
      ]
     },
     "metadata": {},
     "output_type": "display_data"
    }
   ],
   "source": [
    "learn = text_classifier_learner(dls, AWD_LSTM, drop_mult=0.5, metrics=accuracy)\n",
    "learn.fine_tune(4, 1e-2)"
   ]
  },
  {
   "cell_type": "code",
   "execution_count": 7,
   "id": "f5e79bb9",
   "metadata": {},
   "outputs": [
    {
     "data": {
      "text/html": [
       "\n",
       "<style>\n",
       "    /* Turns off some styling */\n",
       "    progress {\n",
       "        /* gets rid of default border in Firefox and Opera. */\n",
       "        border: none;\n",
       "        /* Needs to be in here for Safari polyfill so background images work as expected. */\n",
       "        background-size: auto;\n",
       "    }\n",
       "    progress:not([value]), progress:not([value])::-webkit-progress-bar {\n",
       "        background: repeating-linear-gradient(45deg, #7e7e7e, #7e7e7e 10px, #5c5c5c 10px, #5c5c5c 20px);\n",
       "    }\n",
       "    .progress-bar-interrupted, .progress-bar-interrupted::-webkit-progress-bar {\n",
       "        background: #F44336;\n",
       "    }\n",
       "</style>\n"
      ],
      "text/plain": [
       "<IPython.core.display.HTML object>"
      ]
     },
     "metadata": {},
     "output_type": "display_data"
    },
    {
     "data": {
      "text/html": [],
      "text/plain": [
       "<IPython.core.display.HTML object>"
      ]
     },
     "metadata": {},
     "output_type": "display_data"
    },
    {
     "data": {
      "text/plain": [
       "('negative', tensor(0), tensor([0.9684, 0.0316]))"
      ]
     },
     "execution_count": 7,
     "metadata": {},
     "output_type": "execute_result"
    }
   ],
   "source": [
    "learn.predict(\"This movie was absolutely terrible and boring\")\n"
   ]
  },
  {
   "cell_type": "code",
   "execution_count": 8,
   "id": "f8306623",
   "metadata": {},
   "outputs": [
    {
     "data": {
      "text/html": [
       "\n",
       "<style>\n",
       "    /* Turns off some styling */\n",
       "    progress {\n",
       "        /* gets rid of default border in Firefox and Opera. */\n",
       "        border: none;\n",
       "        /* Needs to be in here for Safari polyfill so background images work as expected. */\n",
       "        background-size: auto;\n",
       "    }\n",
       "    progress:not([value]), progress:not([value])::-webkit-progress-bar {\n",
       "        background: repeating-linear-gradient(45deg, #7e7e7e, #7e7e7e 10px, #5c5c5c 10px, #5c5c5c 20px);\n",
       "    }\n",
       "    .progress-bar-interrupted, .progress-bar-interrupted::-webkit-progress-bar {\n",
       "        background: #F44336;\n",
       "    }\n",
       "</style>\n"
      ],
      "text/plain": [
       "<IPython.core.display.HTML object>"
      ]
     },
     "metadata": {},
     "output_type": "display_data"
    },
    {
     "data": {
      "text/html": [],
      "text/plain": [
       "<IPython.core.display.HTML object>"
      ]
     },
     "metadata": {},
     "output_type": "display_data"
    },
    {
     "data": {
      "text/plain": [
       "('positive', tensor(1), tensor([0.0277, 0.9723]))"
      ]
     },
     "execution_count": 8,
     "metadata": {},
     "output_type": "execute_result"
    }
   ],
   "source": [
    "learn.predict(\"Amazing film! Best movie I've ever seen!\")"
   ]
  },
  {
   "cell_type": "code",
   "execution_count": 9,
   "id": "13f092e1",
   "metadata": {},
   "outputs": [
    {
     "data": {
      "text/html": [
       "\n",
       "<style>\n",
       "    /* Turns off some styling */\n",
       "    progress {\n",
       "        /* gets rid of default border in Firefox and Opera. */\n",
       "        border: none;\n",
       "        /* Needs to be in here for Safari polyfill so background images work as expected. */\n",
       "        background-size: auto;\n",
       "    }\n",
       "    progress:not([value]), progress:not([value])::-webkit-progress-bar {\n",
       "        background: repeating-linear-gradient(45deg, #7e7e7e, #7e7e7e 10px, #5c5c5c 10px, #5c5c5c 20px);\n",
       "    }\n",
       "    .progress-bar-interrupted, .progress-bar-interrupted::-webkit-progress-bar {\n",
       "        background: #F44336;\n",
       "    }\n",
       "</style>\n"
      ],
      "text/plain": [
       "<IPython.core.display.HTML object>"
      ]
     },
     "metadata": {},
     "output_type": "display_data"
    },
    {
     "data": {
      "text/html": [],
      "text/plain": [
       "<IPython.core.display.HTML object>"
      ]
     },
     "metadata": {},
     "output_type": "display_data"
    },
    {
     "data": {
      "text/plain": [
       "('negative', tensor(0), tensor([0.9361, 0.0639]))"
      ]
     },
     "execution_count": 9,
     "metadata": {},
     "output_type": "execute_result"
    }
   ],
   "source": [
    "learn.predict(\"I hate this movie. It was a waste of time.\")"
   ]
  }
 ],
 "metadata": {
  "kernelspec": {
   "display_name": "pytorch",
   "language": "python",
   "name": "python3"
  },
  "language_info": {
   "codemirror_mode": {
    "name": "ipython",
    "version": 3
   },
   "file_extension": ".py",
   "mimetype": "text/x-python",
   "name": "python",
   "nbconvert_exporter": "python",
   "pygments_lexer": "ipython3",
   "version": "3.12.12"
  }
 },
 "nbformat": 4,
 "nbformat_minor": 5
}
