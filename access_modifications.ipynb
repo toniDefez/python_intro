{
 "cells": [
  {
   "cell_type": "markdown",
   "id": "4912657f",
   "metadata": {},
   "source": [
    "Access Modifications\n",
    "\n",
    "In programming, access modifiers are used to control or restrict access to members, also known as variables and methods, within a class. These modifiers play an important role in limiting access to secure the members within the class. This article will cover the three access modifiers within Python:\n",
    "\n",
    "Public Access Modifiers\n",
    "Protected Access Modifiers\n",
    "Private Access Modifiers"
   ]
  },
  {
   "cell_type": "markdown",
   "id": "170e3656",
   "metadata": {},
   "source": [
    "Public Access Modifiers\n",
    "By default, all members within a class are public, and there’s no need to specify access modifiers for public members. "
   ]
  },
  {
   "cell_type": "code",
   "execution_count": 1,
   "id": "3f75098d",
   "metadata": {},
   "outputs": [
    {
     "name": "stdout",
     "output_type": "stream",
     "text": [
      "Course: Math, Instructor: Dr. Smith\n",
      "Course: Physics, Instructor: Dr. Johnson\n"
     ]
    }
   ],
   "source": [
    "class ClassSchedule:\n",
    "   def __init__(self, course, instructor):\n",
    "       self.course = course\n",
    "       self.instructor = instructor\n",
    "  \n",
    "   def display_course(self):\n",
    "       print(f'Course: {self.course}, Instructor: {self.instructor}')\n",
    "\n",
    "my_schedule = ClassSchedule(\"Math\", \"Dr. Smith\")\n",
    "my_schedule.display_course()  # Output: Course: Math, Instructor: Dr. Smith\n",
    "my_schedule.course = \"Physics\"\n",
    "my_schedule.instructor = \"Dr. Johnson\"\n",
    "my_schedule.display_course()  # Output: Course: Physics, Instructor: Dr. Johnson"
   ]
  },
  {
   "cell_type": "markdown",
   "id": "61076f9d",
   "metadata": {},
   "source": [
    "Protected Access Modifiers (_)\n",
    "Protected access modifiers, denoted with the prefix _, prevent members from being accessed outside of the class, unless it’s from a subclass. "
   ]
  },
  {
   "cell_type": "code",
   "execution_count": 5,
   "id": "f602befb",
   "metadata": {},
   "outputs": [
    {
     "name": "stdout",
     "output_type": "stream",
     "text": [
      "Course: Biology, Instructor: Ms. Smith\n"
     ]
    }
   ],
   "source": [
    "class ClassSchedule:\n",
    "   def __init__(self, course, instructor):\n",
    "       self._course = course # protected\n",
    "       self._instructor = instructor # protected\n",
    "  \n",
    "   def display_course(self):\n",
    "       print(f'Course: {self._course}, Instructor: {self._instructor}')\n",
    " \n",
    "sched = ClassSchedule('Biology', 'Ms. Smith')\n",
    "sched._course   # Accessing protected member (not recommended)\n",
    "sched._instructor   # Accessing protected member (not recommended\n",
    "sched.display_course()\n"
   ]
  },
  {
   "cell_type": "markdown",
   "id": "0c74d5c2",
   "metadata": {},
   "source": [
    "Private Access Modifiers (__)\n",
    "Private access modifiers, denoted with the prefix __, declare members to be accessible within the class only. "
   ]
  },
  {
   "cell_type": "code",
   "execution_count": 4,
   "id": "535d7e4d",
   "metadata": {},
   "outputs": [
    {
     "ename": "AttributeError",
     "evalue": "'ClassSchedule' object has no attribute '__course'",
     "output_type": "error",
     "traceback": [
      "\u001b[31m---------------------------------------------------------------------------\u001b[39m",
      "\u001b[31mAttributeError\u001b[39m                            Traceback (most recent call last)",
      "\u001b[36mCell\u001b[39m\u001b[36m \u001b[39m\u001b[32mIn[4]\u001b[39m\u001b[32m, line 13\u001b[39m\n\u001b[32m      9\u001b[39m        \u001b[38;5;28mprint\u001b[39m(\u001b[33mf\u001b[39m\u001b[33m'\u001b[39m\u001b[33mCourse: \u001b[39m\u001b[38;5;132;01m{\u001b[39;00m\u001b[38;5;28mself\u001b[39m.__course\u001b[38;5;132;01m}\u001b[39;00m\u001b[33m, Instructor: \u001b[39m\u001b[38;5;132;01m{\u001b[39;00m\u001b[38;5;28mself\u001b[39m.__instructor\u001b[38;5;132;01m}\u001b[39;00m\u001b[33m'\u001b[39m)\n\u001b[32m     11\u001b[39m sched = ClassSchedule(\u001b[33m'\u001b[39m\u001b[33mBiology\u001b[39m\u001b[33m'\u001b[39m, \u001b[33m'\u001b[39m\u001b[33mMs. Smith\u001b[39m\u001b[33m'\u001b[39m)\n\u001b[32m---> \u001b[39m\u001b[32m13\u001b[39m \u001b[43msched\u001b[49m\u001b[43m.\u001b[49m\u001b[43m__course\u001b[49m \u001b[38;5;66;03m# this will throw an Attribute Error because we're trying to access a private member\u001b[39;00m\n\u001b[32m     15\u001b[39m sched.display_course() \u001b[38;5;66;03m# this won't throw an Attribute Error because this method is public\u001b[39;00m\n",
      "\u001b[31mAttributeError\u001b[39m: 'ClassSchedule' object has no attribute '__course'"
     ]
    }
   ],
   "source": [
    "class ClassSchedule:\n",
    "   def __init__(self, course, instructor):\n",
    "       self.__course = course # private\n",
    "       self.__instructor = instructor # private\n",
    "  \n",
    "   def display_course(self):\n",
    "       # public\n",
    " \n",
    "       print(f'Course: {self.__course}, Instructor: {self.__instructor}')\n",
    " \n",
    "sched = ClassSchedule('Biology', 'Ms. Smith')\n",
    " \n",
    "sched.__course # this will throw an Attribute Error because we're trying to access a private member\n",
    " \n",
    "sched.display_course() # this won't throw an Attribute Error because this method is public"
   ]
  }
 ],
 "metadata": {
  "kernelspec": {
   "display_name": ".venv",
   "language": "python",
   "name": "python3"
  },
  "language_info": {
   "codemirror_mode": {
    "name": "ipython",
    "version": 3
   },
   "file_extension": ".py",
   "mimetype": "text/x-python",
   "name": "python",
   "nbconvert_exporter": "python",
   "pygments_lexer": "ipython3",
   "version": "3.13.7"
  }
 },
 "nbformat": 4,
 "nbformat_minor": 5
}
