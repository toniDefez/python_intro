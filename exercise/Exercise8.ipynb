{
  "cells": [
    {
      "cell_type": "markdown",
      "metadata": {},
      "source": [
        "Escribir un programa que pregunte el nombre del usuario en la consola y\n",
        " después de que el usuario lo introduzca muestre por pantalla <NOMBRE>\n",
        " tiene <n> letras, donde <NOMBRE> es el nombre de usuario en mayúsculas y\n",
        "  <n> es el número de letras que tienen el nombre."
      ]
    },
    {
      "cell_type": "code",
      "execution_count": null,
      "metadata": {},
      "outputs": [],
      "source": [
        "name = input(\"Enter your name: \")\n",
        "\n",
        "print(name.upper() +\" has \" + str(len(name)) +\" letters.\")"
      ]
    }
  ],
  "metadata": {
    "kernelspec": {
      "display_name": "Python 3",
      "language": "python",
      "name": "python3"
    },
    "language_info": {
      "name": "python",
      "version": "3.13"
    }
  },
  "nbformat": 4,
  "nbformat_minor": 5
}