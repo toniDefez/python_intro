{
  "cells": [
    {
      "cell_type": "markdown",
      "metadata": {},
      "source": [
        "Escribir un programa que pregunte el nombre completo del usuario en la consola\n",
        " y después muestre por pantalla el nombre completo del usuario tres veces,\n",
        " una con todas las letras minúsculas, otra con todas las letras mayúsculas\n",
        "  y otra solo con la primera letra del nombre y de los apellidos en mayúscula.\n",
        "   El usuario puede introducir su nombre combinando mayúsculas y minúsculas como quiera."
      ]
    },
    {
      "cell_type": "code",
      "execution_count": null,
      "metadata": {},
      "outputs": [],
      "source": [
        "print(\"Hello user!!!\")\n",
        "name = input(\"What is your name?\")\n",
        "print(name.upper())\n",
        "print(name.lower())\n",
        "print(name.title())"
      ]
    }
  ],
  "metadata": {
    "kernelspec": {
      "display_name": "Python 3",
      "language": "python",
      "name": "python3"
    },
    "language_info": {
      "name": "python",
      "version": "3.13"
    }
  },
  "nbformat": 4,
  "nbformat_minor": 5
}