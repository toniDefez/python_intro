{
  "cells": [
    {
      "cell_type": "markdown",
      "metadata": {},
      "source": [
        "Escribir un programa que pida al usuario que introduzca una frase en la\n",
        "consola y una vocal, y después muestre por pantalla la misma frase\n",
        "pero con la vocal introducida en mayúscula."
      ]
    },
    {
      "cell_type": "code",
      "execution_count": null,
      "metadata": {},
      "outputs": [],
      "source": [
        "sentence = input(\"Enter a sentence: \")\n",
        "\n",
        "print(sentence.swapcase())"
      ]
    }
  ],
  "metadata": {
    "kernelspec": {
      "display_name": "Python 3",
      "language": "python",
      "name": "python3"
    },
    "language_info": {
      "name": "python",
      "version": "3.13"
    }
  },
  "nbformat": 4,
  "nbformat_minor": 5
}