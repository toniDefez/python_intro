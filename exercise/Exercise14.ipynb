{
  "cells": [
    {
      "cell_type": "markdown",
      "metadata": {},
      "source": [
        "En funcion del tipo usuario mostramos un mensaje u otro\n",
        "\n",
        "user --> welcome user\n",
        "admin --> Administrator entered\n",
        "other --> exit now !!"
      ]
    },
    {
      "cell_type": "code",
      "execution_count": null,
      "metadata": {},
      "outputs": [],
      "source": [
        "login = input(\"Enter your login: \")\n",
        "if login == \"admin\":\n",
        "    print(\"You entered an admin\")\n",
        "elif login == \"user\":\n",
        "    print(\"You entered a user\")\n",
        "else:\n",
        "    print(\"You entered a wrong login\")"
      ]
    }
  ],
  "metadata": {
    "kernelspec": {
      "display_name": "Python 3",
      "language": "python",
      "name": "python3"
    },
    "language_info": {
      "name": "python",
      "version": "3.13"
    }
  },
  "nbformat": 4,
  "nbformat_minor": 5
}