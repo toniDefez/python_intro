{
  "cells": [
    {
      "cell_type": "code",
      "execution_count": null,
      "metadata": {},
      "outputs": [],
      "source": [
        "print(\"Sumador de números\")\n",
        "\n",
        "try:\n",
        "    # Conversión: aquí puede saltar un ValueError\n",
        "    n1 = int(input(\"Introduce número 1: \"))\n",
        "    n2 = int(input(\"Introduce número 2: \"))\n",
        "\n",
        "    # Reglas personalizadas\n",
        "    if n1 < 0 or n2 < 0:\n",
        "        raise ValueError(\"❌ Los números deben ser positivos\")\n",
        "\n",
        "    print(f\"✅ Resultado: {n1} + {n2} = {n1 + n2}\")\n",
        "\n",
        "# Si el usuario mete letras o decimales\n",
        "except ValueError as e:\n",
        "    print(\"Error:\", e)\n",
        "\n",
        "# Para cualquier otro error inesperado\n",
        "except Exception as e:\n",
        "    print(\"Error inesperado:\", e)"
      ]
    }
  ],
  "metadata": {
    "kernelspec": {
      "display_name": "Python 3",
      "language": "python",
      "name": "python3"
    },
    "language_info": {
      "name": "python",
      "version": "3.13"
    }
  },
  "nbformat": 4,
  "nbformat_minor": 5
}