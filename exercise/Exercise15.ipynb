{
  "cells": [
    {
      "cell_type": "code",
      "execution_count": null,
      "metadata": {},
      "outputs": [],
      "source": [
        "ingredientes_vegetarianos = [\"Pimiento\", \"Tofu\"]\n",
        "ingredientes_normales = [\"Peperoni\", \"Jamón\", \"Salmón\"]\n",
        "ingredientes_base = [\"Mozzarella\", \"Tomate\"]\n",
        "\n",
        "print(\"Bienvenido al sistema de pizzas\")\n",
        "print(\"+++++++++++++++++++++++++++++++\")\n",
        "print(\"Seleccione una pizza:\")\n",
        "print(\" 1) Normal\")\n",
        "print(\" 2) Vegetariana\")\n",
        "\n",
        "opcion = input(\"Opción (1/2): \")\n",
        "\n",
        "# Elegimos lista de ingredientes según la opción\n",
        "if opcion == \"1\":\n",
        "    tipo = \"Normal\"\n",
        "    ingredientes_extra = ingredientes_normales\n",
        "elif opcion == \"2\":\n",
        "    tipo = \"Vegetariana\"\n",
        "    ingredientes_extra = ingredientes_vegetarianos\n",
        "else:\n",
        "    print(\"❌ Opción no válida.\")\n",
        "    exit()\n",
        "\n",
        "# Mostrar ingredientes disponibles\n",
        "print(f\"\\nPizza {tipo}\")\n",
        "print(\"Ingredientes disponibles:\")\n",
        "for i, ing in enumerate(ingredientes_extra, start=1):\n",
        "    print(f\"{i}) {ing}\")\n",
        "\n",
        "# Pedir ingrediente al usuario\n",
        "try:\n",
        "    eleccion = int(input(\"Elige un ingrediente (número): \")) - 1\n",
        "    ingrediente_elegido = ingredientes_extra[eleccion]\n",
        "except (ValueError, IndexError):\n",
        "    print(\"❌ Selección no válida.\")\n",
        "    exit()\n",
        "\n",
        "# Construir la pizza\n",
        "pizza = ingredientes_base.copy()\n",
        "pizza.append(ingrediente_elegido)\n",
        "\n",
        "# Mostrar resultado final\n",
        "print(\"\\nResultado final\")\n",
        "print(f\"Pizza {tipo}\")\n",
        "print(\"Ingredientes:\", \", \".join(pizza))\n"
      ]
    }
  ],
  "metadata": {
    "kernelspec": {
      "display_name": "Python 3",
      "language": "python",
      "name": "python3"
    },
    "language_info": {
      "name": "python",
      "version": "3.13"
    }
  },
  "nbformat": 4,
  "nbformat_minor": 5
}