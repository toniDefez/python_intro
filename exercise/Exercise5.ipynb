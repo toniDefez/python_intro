{
  "cells": [
    {
      "cell_type": "markdown",
      "metadata": {},
      "source": [
        "Programa que le metememos el numero de perros\n",
        "y gatos y nos dice el porcentaje de animales que\n",
        "hay por raza"
      ]
    },
    {
      "cell_type": "code",
      "execution_count": null,
      "metadata": {},
      "outputs": [],
      "source": [
        "print(\"Welcome a Perros locos tu protectora favorita\")\n",
        "cats = int(input(\"How many cats do you have?\"))\n",
        "dogs = int(input(\"How many dogs do you have?\"))\n",
        "\n",
        "total = cats + dogs\n",
        "print(\"Total % of cats is \" + str(cats/total*100))\n",
        "print(\"Total % of dogs is \" + str(dogs/total*100))\n"
      ]
    }
  ],
  "metadata": {
    "kernelspec": {
      "display_name": "Python 3",
      "language": "python",
      "name": "python3"
    },
    "language_info": {
      "name": "python",
      "version": "3.13"
    }
  },
  "nbformat": 4,
  "nbformat_minor": 5
}