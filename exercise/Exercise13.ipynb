{
  "cells": [
    {
      "cell_type": "code",
      "execution_count": null,
      "metadata": {},
      "outputs": [],
      "source": [
        "print(\"Welcome user to the divider !!!\")\n",
        "number = int(input(\"Enter a number: \"))\n",
        "\n",
        "if number <= 0:\n",
        "    print(\"You entered a negative number\")\n",
        "else:\n",
        "    print(\"You entered a positive number\")\n",
        "    print(number/2)"
      ]
    }
  ],
  "metadata": {
    "kernelspec": {
      "display_name": "Python 3",
      "language": "python",
      "name": "python3"
    },
    "language_info": {
      "name": "python",
      "version": "3.13"
    }
  },
  "nbformat": 4,
  "nbformat_minor": 5
}