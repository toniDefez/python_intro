{
  "cells": [
    {
      "cell_type": "code",
      "execution_count": null,
      "metadata": {},
      "outputs": [],
      "source": [
        "print(\"Welcome user \\n\")\n",
        "name = input(\"Enter your name:\")\n",
        "age = int(input(\"Enter your age:\"))\n",
        "\n",
        "print(\"Hello, \"+ name +\" you are \" + str(age) + \" years old\")\n"
      ]
    }
  ],
  "metadata": {
    "kernelspec": {
      "display_name": "Python 3",
      "language": "python",
      "name": "python3"
    },
    "language_info": {
      "name": "python",
      "version": "3.13"
    }
  },
  "nbformat": 4,
  "nbformat_minor": 5
}