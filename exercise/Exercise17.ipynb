{
  "cells": [
    {
      "cell_type": "markdown",
      "metadata": {},
      "source": [
        "Programa que cuenta desde el primer número que diga el usuario hasta\n",
        "el segundo"
      ]
    },
    {
      "cell_type": "code",
      "execution_count": null,
      "metadata": {},
      "outputs": [],
      "source": [
        "number1 = int(input(\"Introduce numero1: \"))\n",
        "number2 = int(input(\"Introduce numero2: \"))\n",
        "\n",
        "total_number = 0\n",
        "\n",
        "for i in range(number1, number2 + 1):\n",
        "    print(i)\n",
        "    i += 1"
      ]
    }
  ],
  "metadata": {
    "kernelspec": {
      "display_name": "Python 3",
      "language": "python",
      "name": "python3"
    },
    "language_info": {
      "name": "python",
      "version": "3.13"
    }
  },
  "nbformat": 4,
  "nbformat_minor": 5
}