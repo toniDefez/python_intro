{
  "cells": [
    {
      "cell_type": "markdown",
      "metadata": {},
      "source": [
        "Escribir un programa que pregunte el correo\n",
        "electrónico del usuario en la consola y muestre\n",
        "por pantalla otro correo electrónico con el mismo nombre\n",
        "(la parte delante de la arroba @) pero con dominio ceu.es."
      ]
    },
    {
      "cell_type": "code",
      "execution_count": null,
      "metadata": {},
      "outputs": [],
      "source": [
        "email = input(\"Enter your email: \")\n",
        "username = email.split(\"@\")[0]\n",
        "print(username+\"@ceu.es\")"
      ]
    }
  ],
  "metadata": {
    "kernelspec": {
      "display_name": "Python 3",
      "language": "python",
      "name": "python3"
    },
    "language_info": {
      "name": "python",
      "version": "3.13"
    }
  },
  "nbformat": 4,
  "nbformat_minor": 5
}