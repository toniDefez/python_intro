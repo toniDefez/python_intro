{
  "cells": [
    {
      "cell_type": "markdown",
      "metadata": {},
      "source": [
        "Una juguetería tiene mucho éxito en dos de sus productos:\n",
        "payasos y muñecas.\n",
        "Suele hacer venta por correo y la empresa de logística les cobra por peso\n",
        "de cada paquete así que deben calcular el peso de los payasos y muñecas\n",
        "que saldrán en cada paquete a demanda. Cada payaso pesa 112 g y cada muñeca 75 g.\n",
        "Escribir un programa que lea el número de payasos y\n",
        "muñecas vendidos en el último pedido y calcule el peso total del paquete que será enviado."
      ]
    },
    {
      "cell_type": "code",
      "execution_count": null,
      "metadata": {},
      "outputs": [],
      "source": [
        "number_clowns = int(input(\"Enter number clowns:\"))\n",
        "number_doll = float(input(\"Enter number doll:\"))\n",
        "\n",
        "weight_clow = 112\n",
        "weight_doll = 75\n",
        "\n",
        "total_clowns_weight = weight_clow * number_clowns\n",
        "total_doll_weight = weight_doll * number_doll\n",
        "\n",
        "print(\"The total weight is \" + str(total_clowns_weight +  total_doll_weight) +\" g\")\n"
      ]
    }
  ],
  "metadata": {
    "kernelspec": {
      "display_name": "Python 3",
      "language": "python",
      "name": "python3"
    },
    "language_info": {
      "name": "python",
      "version": "3.13"
    }
  },
  "nbformat": 4,
  "nbformat_minor": 5
}