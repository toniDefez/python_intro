{
  "cells": [
    {
      "cell_type": "markdown",
      "metadata": {},
      "source": [
        "Los teléfonos de una empresa tienen el siguiente\n",
        "formato prefijo-número-extension donde el prefijo\n",
        "es el código del país +34, y la extensión tiene\n",
        "dos dígitos (por ejemplo +34-913724710-56).\n",
        "Escribir un programa que pregunte por un número\n",
        "de teléfono con este formato y muestre por pantalla\n",
        "el número de teléfono sin el prefijo y la extensión."
      ]
    },
    {
      "cell_type": "code",
      "execution_count": null,
      "metadata": {},
      "outputs": [],
      "source": [
        "import re\n",
        "\n",
        "patron = r\"^\\+\\d{1,3}-\\d{7,10}-\\d{1,4}$\"\n",
        "texto = input(\"Enter you number:\")\n",
        "if re.match(patron, texto):\n",
        "    fragments = texto.split(\"-\")\n",
        "    print(\"Prefijo:\" + fragments[0])\n",
        "    print(\"Numero:\" + fragments[1])\n",
        "    print(\"Extension:\"+fragments[2])\n",
        "else:\n",
        "    print(\"Formato NO válido\")"
      ]
    }
  ],
  "metadata": {
    "kernelspec": {
      "display_name": "Python 3",
      "language": "python",
      "name": "python3"
    },
    "language_info": {
      "name": "python",
      "version": "3.13"
    }
  },
  "nbformat": 4,
  "nbformat_minor": 5
}