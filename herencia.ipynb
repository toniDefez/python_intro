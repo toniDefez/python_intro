{
 "cells": [
  {
   "cell_type": "markdown",
   "id": "36ebba15",
   "metadata": {},
   "source": [
    "Herencia\n",
    "Una de las características más potentes de la programación orientada a objetos es la herencia, que permite definir una especialización de una clase añadiendo nuevos atributos o métodos. La nueva clase se conoce como clase hija y hereda los atributos y métodos de la clase original que se conoce como clase madre.\n",
    "\n",
    "Para crear un clase a partir de otra existente se utiliza la misma sintaxis que para definir una clase, pero poniendo detrás del nombre de la clase entre paréntesis los nombres de las clases madre de las que hereda."
   ]
  },
  {
   "cell_type": "code",
   "execution_count": 18,
   "id": "ecf3361e",
   "metadata": {},
   "outputs": [
    {
     "name": "stdout",
     "output_type": "stream",
     "text": [
      "Número: 1234 5678 9012 3456, Titular: Juan Pérez, Fecha de Expiración: 12/25\n"
     ]
    }
   ],
   "source": [
    "class Tarjeta:\n",
    "   def __init__(self, numero, titular, fecha_expiracion,cantidad=0):\n",
    "       self._numero = numero\n",
    "       self._titular = titular\n",
    "       self._fecha_expiracion = fecha_expiracion\n",
    "       self._cantidad = cantidad\n",
    "\n",
    "   def mostrar_saldo(self):       # Método de la clase Tarjeta que hereda la clase Tarjeta_descuento\n",
    "       print('El saldo es',  self._cantidad, '€.')\n",
    "\n",
    "   def __str__(self):\n",
    "       return f'Número: {self._numero}, Titular: {self._titular}, Fecha de Expiración: {self._fecha_expiracion}'\n",
    "\n",
    "\n",
    "mi_tarjeta = Tarjeta(\"1234 5678 9012 3456\", \"Juan Pérez\", \"12/25\")\n",
    "print(mi_tarjeta)\n"
   ]
  },
  {
   "cell_type": "markdown",
   "id": "0568015a",
   "metadata": {},
   "source": [
    "A partir de la clase Tarjeta definida antes podemos crear mediante herencia otra clase Tarjeta_Descuento para representar las tarjetas de crédito que aplican un descuento sobre las compras."
   ]
  },
  {
   "cell_type": "code",
   "execution_count": 20,
   "id": "fb23a405",
   "metadata": {},
   "outputs": [
    {
     "name": "stdout",
     "output_type": "stream",
     "text": [
      "Número: 9876 5432 1098 7654, Titular: Ana Gómez, Fecha de Expiración: 11/24, Descuento: 10%\n",
      "El saldo con descuento es 0.0 €.\n"
     ]
    }
   ],
   "source": [
    "class Tarjeta_Descuento(Tarjeta):\n",
    "   def __init__(self, numero, titular, fecha_expiracion, descuento):\n",
    "       super().__init__(numero, titular, fecha_expiracion)  # Inicializamos la clase padre con un saldo inicial de 100€\n",
    "       self.descuento = descuento\n",
    "\n",
    "   def aplicar_descuento(self, monto):\n",
    "       return monto * (1 - self.descuento / 100)\n",
    "    \n",
    "   def mostrar_saldo(self):       # Sobrescribimos el método de la clase padre\n",
    "       print('El saldo con descuento es',  self._cantidad * (1 - self.descuento / 100), '€.')\n",
    "\n",
    "   def __str__(self):\n",
    "       return f'{super().__str__()}, Descuento: {self.descuento}%'\n",
    "\n",
    "mi_tarjeta_descuento = Tarjeta_Descuento(\"9876 5432 1098 7654\", \"Ana Gómez\", \"11/24\", 10)\n",
    "print(mi_tarjeta_descuento)\n",
    "mi_tarjeta_descuento.mostrar_saldo()  # Llamada al método sobrescrito"
   ]
  },
  {
   "cell_type": "markdown",
   "id": "808adc5d",
   "metadata": {},
   "source": [
    "El siguiente comando permite averiguar si un objeto es instancia de una clase:\n",
    "\n",
    "isinstance(objeto, clase): Devuelve True si el objeto objeto es una instancia de la clase clase y False en caso contrario."
   ]
  },
  {
   "cell_type": "code",
   "execution_count": 7,
   "id": "28a301d4",
   "metadata": {},
   "outputs": [
    {
     "name": "stdout",
     "output_type": "stream",
     "text": [
      "Tarjeta_descuento es instancia de Tarjeta: True\n",
      "Mi_tarjeta es instancia de Tarjeta_Descuento: False\n",
      "Tarjeta_Descuento es subclase de Tarjeta: True\n"
     ]
    }
   ],
   "source": [
    "print(\"Tarjeta_descuento es instancia de Tarjeta:\", isinstance(mi_tarjeta_descuento, Tarjeta))  # True\n",
    "print(\"Mi_tarjeta es instancia de Tarjeta_Descuento:\", isinstance(mi_tarjeta, Tarjeta_Descuento))  # False\n",
    "print(\"Tarjeta_Descuento es subclase de Tarjeta:\", issubclass(Tarjeta_Descuento, Tarjeta))  # True"
   ]
  }
 ],
 "metadata": {
  "kernelspec": {
   "display_name": ".venv",
   "language": "python",
   "name": "python3"
  },
  "language_info": {
   "codemirror_mode": {
    "name": "ipython",
    "version": 3
   },
   "file_extension": ".py",
   "mimetype": "text/x-python",
   "name": "python",
   "nbconvert_exporter": "python",
   "pygments_lexer": "ipython3",
   "version": "3.13.7"
  }
 },
 "nbformat": 4,
 "nbformat_minor": 5
}
