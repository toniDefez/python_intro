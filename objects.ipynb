{
 "cells": [
  {
   "cell_type": "markdown",
   "id": "85e3a154",
   "metadata": {},
   "source": [
    "Object-Oriented Programming (OOP) is a programming paradigm that allows for the organization of code with data states and functionalities. Code with OOP is modular, abstract, and easy to maintain. In this article, we’ll cover classes and objects, which are the backbones of OOP.\n",
    "\n",
    "Classes\n",
    "A class is a data type that encapsulates information and functions as a blueprint for objects. Let’s take a look at the syntax for creating a new class:"
   ]
  },
  {
   "cell_type": "code",
   "execution_count": 1,
   "id": "a13779ce",
   "metadata": {},
   "outputs": [
    {
     "name": "stdout",
     "output_type": "stream",
     "text": [
      "<__main__.Dog object at 0x000002BBD6168590>\n"
     ]
    }
   ],
   "source": [
    "class Dog:\n",
    "   # this is a blank class\n",
    "   pass\n",
    "\n",
    "pepper = Dog()\n",
    "print(pepper)\n"
   ]
  },
  {
   "cell_type": "markdown",
   "id": "098dbfe6",
   "metadata": {},
   "source": [
    "Constructors\n",
    "Constructors are special functions that are executed when an object is instantiated. In Python, the __init__() function is used as the constructor and is called when creating an object.\n",
    "\n",
    "The self parameter in the __init__() method refers to the current instance and the instance variable course allows for input to assign a value. We can create a class instance by calling the class and inputting the value for course. Let’s create an instance with the instance variable ’Chemistry’ and assign it to an object named first:"
   ]
  },
  {
   "cell_type": "code",
   "execution_count": 2,
   "id": "8370a0bf",
   "metadata": {},
   "outputs": [
    {
     "name": "stdout",
     "output_type": "stream",
     "text": [
      "Math\n"
     ]
    }
   ],
   "source": [
    "class ClassSchedule:\n",
    "   def __init__(self, course):\n",
    "       self.course = course\n",
    "    \n",
    "\n",
    "my_schedule = ClassSchedule(\"Math\")\n",
    "print(my_schedule.course)  # Output: Math"
   ]
  },
  {
   "cell_type": "markdown",
   "id": "08011a2e",
   "metadata": {},
   "source": [
    "Destructors\n",
    "Destructors are special functions that are called when an object gets deleted. In Python, the __del__() method is commonly used as the destructor and is called when an object is deleted.\n",
    "\n",
    "del()\n",
    "Python’s built-in __del__() method represents the destructor in a class. In the example below, the __del__() method would be called every time an object initiated from the ClassSchedule class is deleted."
   ]
  },
  {
   "cell_type": "code",
   "execution_count": 4,
   "id": "29540974",
   "metadata": {},
   "outputs": [
    {
     "name": "stdout",
     "output_type": "stream",
     "text": [
      "You successfully deleted your schedule\n"
     ]
    }
   ],
   "source": [
    "class ClassSchedule:\n",
    "   def __init__(self, course):\n",
    "       self.course = course\n",
    "  \n",
    "   def __del__(self):\n",
    "       print('You successfully deleted your schedule')\n",
    "\n",
    "my_schedule = ClassSchedule(\"Math\")\n",
    "del my_schedule  # Output: You successfully deleted your schedule"
   ]
  },
  {
   "cell_type": "markdown",
   "id": "a19550ed",
   "metadata": {},
   "source": [
    "El método __str__\n",
    "Otro método especial es el método llamado __str__ que se invoca cada vez que se llama a las funciones print o str."
   ]
  },
  {
   "cell_type": "code",
   "execution_count": 7,
   "id": "31a62bd2",
   "metadata": {},
   "outputs": [
    {
     "name": "stdout",
     "output_type": "stream",
     "text": [
      "Course: Math\n"
     ]
    }
   ],
   "source": [
    "class ClassSchedule:\n",
    "    def __init__(self, course):\n",
    "       self.course = course\n",
    "\n",
    "    def __str__(self):\n",
    "       return f'Course: {self.course}'\n",
    "\n",
    "my_schedule = ClassSchedule(\"Math\")\n",
    "print(my_schedule)  # Output: Course: Math"
   ]
  }
 ],
 "metadata": {
  "kernelspec": {
   "display_name": ".venv",
   "language": "python",
   "name": "python3"
  },
  "language_info": {
   "codemirror_mode": {
    "name": "ipython",
    "version": 3
   },
   "file_extension": ".py",
   "mimetype": "text/x-python",
   "name": "python",
   "nbconvert_exporter": "python",
   "pygments_lexer": "ipython3",
   "version": "3.13.7"
  }
 },
 "nbformat": 4,
 "nbformat_minor": 5
}
