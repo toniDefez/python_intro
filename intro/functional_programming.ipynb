{
 "cells": [
  {
   "cell_type": "markdown",
   "id": "2aa381e7",
   "metadata": {},
   "source": [
    "En Python las funciones son objetos de primera clase, es decir, que pueden pasarse como argumentos de una función, al igual que el resto de los tipos de datos."
   ]
  },
  {
   "cell_type": "code",
   "execution_count": 8,
   "id": "b5211bc5",
   "metadata": {},
   "outputs": [
    {
     "name": "stdout",
     "output_type": "stream",
     "text": [
      "Resultado del cuadrado de 5: 25\n",
      "Resultado del cubo de 5: 125\n"
     ]
    }
   ],
   "source": [
    "def aplica(funcion, argumento):\n",
    "    return funcion(argumento)\n",
    "def cuadrado(n):\n",
    "    return n*n\n",
    "def cubo(n):\n",
    "    return n**3\n",
    "\n",
    "n = 5\n",
    "print(f\"Resultado del cuadrado de {n}: {aplica(cuadrado, n)}\")  # Devuelve 25\n",
    "print(f\"Resultado del cubo de {n}: {aplica(cubo, n)}\")      # Devuelve 125\n"
   ]
  }
 ],
 "metadata": {
  "kernelspec": {
   "display_name": ".venv",
   "language": "python",
   "name": "python3"
  },
  "language_info": {
   "codemirror_mode": {
    "name": "ipython",
    "version": 3
   },
   "file_extension": ".py",
   "mimetype": "text/x-python",
   "name": "python",
   "nbconvert_exporter": "python",
   "pygments_lexer": "ipython3",
   "version": "3.13.7"
  }
 },
 "nbformat": 4,
 "nbformat_minor": 5
}
