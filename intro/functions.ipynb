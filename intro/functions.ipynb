{
 "cells": [
  {
   "cell_type": "code",
   "execution_count": 3,
   "id": "63342a98-97b3-42e4-9527-ee5e250e51b8",
   "metadata": {},
   "outputs": [
    {
     "name": "stdout",
     "output_type": "stream",
     "text": [
      "¡Hola amiga!\n"
     ]
    }
   ],
   "source": [
    "def greet():\n",
    "    \n",
    "    print('¡Hola amiga!')\n",
    "    return\n",
    "\n",
    "greet()"
   ]
  },
  {
   "cell_type": "markdown",
   "id": "c1fe9f67",
   "metadata": {},
   "source": [
    "Escribir una funcion que Saluda"
   ]
  },
  {
   "cell_type": "code",
   "execution_count": 4,
   "id": "f29aad16-a704-47c9-99a0-d6869623dab1",
   "metadata": {},
   "outputs": [
    {
     "name": "stdout",
     "output_type": "stream",
     "text": [
      "¡Hola, Ana!\n"
     ]
    }
   ],
   "source": [
    "def greet(name):\n",
    "    print(f'¡Hola, {name}!')\n",
    "\n",
    "greet('Ana')"
   ]
  },
  {
   "cell_type": "markdown",
   "id": "cd626941",
   "metadata": {},
   "source": [
    "Escribir una función a la que se le pase una cadena <nombre> y muestre por pantalla el saludo ¡hola <nombre>!."
   ]
  },
  {
   "cell_type": "code",
   "execution_count": 5,
   "id": "9a9dfa77",
   "metadata": {},
   "outputs": [
    {
     "name": "stdout",
     "output_type": "stream",
     "text": [
      "120\n"
     ]
    }
   ],
   "source": [
    "def getFactorial(n):\n",
    "    if n == 0 or n == 1:\n",
    "        return 1\n",
    "    else:\n",
    "        return n * getFactorial(n - 1)\n",
    "    \n",
    "print(getFactorial(5))  # Output: 120"
   ]
  },
  {
   "cell_type": "markdown",
   "id": "c6cfdcda",
   "metadata": {},
   "source": [
    "Escribir una función que reciba un número entero positivo y devuelva su factorial."
   ]
  },
  {
   "cell_type": "code",
   "execution_count": 6,
   "id": "38264cd8",
   "metadata": {},
   "outputs": [
    {
     "name": "stdout",
     "output_type": "stream",
     "text": [
      "121.0\n"
     ]
    }
   ],
   "source": [
    "def calculateIva(price, iva_rate=0.21):\n",
    "    \"\"\"\n",
    "    Calcula el precio con IVA incluido.\n",
    "    \n",
    "    :param price: Precio sin IVA\n",
    "    :param iva_rate: Tasa de IVA (por defecto es 21%)\n",
    "    :return: Precio con IVA incluido\n",
    "    \"\"\"\n",
    "    return price * (1 + iva_rate)\n",
    "\n",
    "print(calculateIva(100))  # Output: 121.0"
   ]
  },
  {
   "cell_type": "markdown",
   "id": "cfaf13ca",
   "metadata": {},
   "source": [
    "Escribir una función que calcule el total de una factura tras aplicarle el IVA. La función debe recibir la cantidad sin IVA y el porcentaje de IVA a aplicar, y devolver el total de la factura. Si se invoca la función sin pasarle el porcentaje de IVA, deberá aplicar un 21%."
   ]
  },
  {
   "cell_type": "code",
   "execution_count": 7,
   "id": "670168c8",
   "metadata": {},
   "outputs": [
    {
     "name": "stdout",
     "output_type": "stream",
     "text": [
      "Bonjour!\n"
     ]
    }
   ],
   "source": [
    "def greeting(language):\n",
    "    greetings = {\n",
    "        'Spanish': '¡Hola!',\n",
    "        'English': 'Hello!',\n",
    "        'French': 'Bonjour!',\n",
    "    }\n",
    "    return greetings.get(language, '¡Hola!')\n",
    "print(greeting('French'))  # Output: Bonjour!"
   ]
  },
  {
   "cell_type": "markdown",
   "id": "56f47705",
   "metadata": {},
   "source": [
    "Funcion al que se le pasa un idioma (Spanish, French, Catalan) y devuelve un saludo"
   ]
  }
 ],
 "metadata": {
  "kernelspec": {
   "display_name": ".venv",
   "language": "python",
   "name": "python3"
  },
  "language_info": {
   "codemirror_mode": {
    "name": "ipython",
    "version": 3
   },
   "file_extension": ".py",
   "mimetype": "text/x-python",
   "name": "python",
   "nbconvert_exporter": "python",
   "pygments_lexer": "ipython3",
   "version": "3.13.7"
  }
 },
 "nbformat": 4,
 "nbformat_minor": 5
}
