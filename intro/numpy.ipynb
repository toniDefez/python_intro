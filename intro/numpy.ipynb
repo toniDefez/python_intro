{
 "cells": [
  {
   "cell_type": "markdown",
   "id": "dbbd2e17",
   "metadata": {},
   "source": [
    "NumPy es una librería que hace que los números y los cálculos en Python sean mucho más rápidos y fáciles, especialmente cuando trabajas con muchos datos a la vez.\n",
    "\n",
    "Python normal trabaja con listas, pero cuando tienes millones de números, se vuelve lento. NumPy usa arrays (arreglos) que están optimizados para matemáticas rápidas."
   ]
  },
  {
   "cell_type": "code",
   "execution_count": 22,
   "id": "fdf7aeb6",
   "metadata": {},
   "outputs": [],
   "source": [
    "import numpy as np"
   ]
  },
  {
   "cell_type": "markdown",
   "id": "bc8a0cad",
   "metadata": {},
   "source": [
    "Ejemplo: Análisis sencillo de gastos mensuales\n",
    "\n",
    "Imagina que tienes tus gastos de los últimos 6 meses:\n",
    "\n",
    "Con listas normales de Python tendrías que escribir varios bucles for para hacer esto. Con NumPy, son una sola línea."
   ]
  },
  {
   "cell_type": "code",
   "execution_count": 2,
   "id": "2c848e01",
   "metadata": {},
   "outputs": [
    {
     "name": "stdout",
     "output_type": "stream",
     "text": [
      "Total: 3170\n",
      "Promedio: 528.3333333333334\n",
      "Máximo: 620\n",
      "Mínimo: 390\n",
      "Desviación estándar: 84.73815879257441\n"
     ]
    }
   ],
   "source": [
    "\n",
    "gastos = np.array([450, 520, 610, 390, 580, 620])  # euros por mes\n",
    "\n",
    "# 1. Gasto total en 6 meses\n",
    "print(\"Total:\", np.sum(gastos))   # 3170\n",
    "\n",
    "# 2. Gasto promedio por mes\n",
    "print(\"Promedio:\", np.mean(gastos))   # 528.3\n",
    "\n",
    "# 3. ¿Cuál fue el mes más caro y el más barato?\n",
    "print(\"Máximo:\", np.max(gastos))  # 620\n",
    "print(\"Mínimo:\", np.min(gastos))  # 390\n",
    "\n",
    "# 4. ¿Cuánto varían tus gastos (desviación)?\n",
    "print(\"Desviación estándar:\", np.std(gastos)) "
   ]
  },
  {
   "cell_type": "markdown",
   "id": "5f4585f1",
   "metadata": {},
   "source": [
    "Supón que quieres ver cuánto gastarías en promedio si el gasto varía aleatoriamente:\n",
    "\n",
    "La mayoría de los  meses gastamos 500 (ese es el valor central → loc).\n",
    "\n",
    "Algunos meses gastamos un poco más  (550) y otros más menos (450). Esa variación es la scale (desviación estándar).\n",
    "\n",
    "Si mido 10 meses, entonces size=10."
   ]
  },
  {
   "cell_type": "code",
   "execution_count": null,
   "id": "58085b82",
   "metadata": {},
   "outputs": [
    {
     "name": "stdout",
     "output_type": "stream",
     "text": [
      "Gasto simulado promedio: 501.85983889379895\n"
     ]
    }
   ],
   "source": [
    "\n",
    "\n",
    "\n",
    "\n",
    "simulacion = np.random.normal(loc=500, scale=50, size=1000)  # 1000 meses simulados\n",
    "print(\"Gasto simulado promedio:\", np.mean(simulacion))"
   ]
  }
 ],
 "metadata": {
  "kernelspec": {
   "display_name": ".venv",
   "language": "python",
   "name": "python3"
  },
  "language_info": {
   "codemirror_mode": {
    "name": "ipython",
    "version": 3
   },
   "file_extension": ".py",
   "mimetype": "text/x-python",
   "name": "python",
   "nbconvert_exporter": "python",
   "pygments_lexer": "ipython3",
   "version": "3.13.7"
  }
 },
 "nbformat": 4,
 "nbformat_minor": 5
}
