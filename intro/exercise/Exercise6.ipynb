{
  "cells": [
    {
      "cell_type": "markdown",
      "metadata": {},
      "source": [
        "Escribir un programa que pregunte el nombre del usuario\n",
        "en la consola y un número entero e imprima por pantalla\n",
        "en líneas distintas el nombre del usuario tantas veces como el número introducido."
      ]
    },
    {
      "cell_type": "code",
      "execution_count": null,
      "metadata": {},
      "outputs": [],
      "source": [
        "name = input(\"Username: \")\n",
        "repetition_name = int(input(\"Times that you want that name ???\"))\n",
        "\n",
        "print( str(name  + \"\\n\")* repetition_name)"
      ]
    }
  ],
  "metadata": {
    "kernelspec": {
      "display_name": "Python 3",
      "language": "python",
      "name": "python3"
    },
    "language_info": {
      "name": "python",
      "version": "3.13"
    }
  },
  "nbformat": 4,
  "nbformat_minor": 5
}