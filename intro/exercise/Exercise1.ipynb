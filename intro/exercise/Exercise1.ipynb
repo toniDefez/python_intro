{
  "cells": [
    {
      "cell_type": "markdown",
      "metadata": {},
      "source": [
        "Escribir un programa que pida al usuario dos números enteros y\n",
        "muestre por pantalla la <n> entre <m> da un cociente <c> y un resto\n",
        "<r> donde <n> y <m> son los números introducidos por el usuario,\n",
        "y <c> y <r> son el cociente y el resto de la división entera respectivamente."
      ]
    },
    {
      "cell_type": "code",
      "execution_count": null,
      "metadata": {},
      "outputs": [],
      "source": [
        "number1 = int(input(\"Enter number 1:\"))\n",
        "number2 =  int(input(\"Enter number 2:\"))\n",
        "\n",
        "print( str(number1) +\"/\"+ str(number2) +\"=\"+ str( number1/number2) +\",remainder = \" +str( number1%number2) )\n"
      ]
    }
  ],
  "metadata": {
    "kernelspec": {
      "display_name": "Python 3",
      "language": "python",
      "name": "python3"
    },
    "language_info": {
      "name": "python",
      "version": "3.13"
    }
  },
  "nbformat": 4,
  "nbformat_minor": 5
}