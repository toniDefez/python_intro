{
  "cells": [
    {
      "cell_type": "markdown",
      "metadata": {},
      "source": [
        "# Comprensión de Colecciones en Python\n",
        "\n",
        "Este cuaderno recoge ejemplos y explicaciones sobre **comprensión de listas** y **comprensión de diccionarios**, basados en la página de Aprende con Alf."
      ]
    },
    {
      "cell_type": "markdown",
      "metadata": {},
      "source": [
        "## Comprensión de listas\n",
        "\n",
        "La sintaxis general:\n",
        "`[expresión for variable in lista if condición]`\n",
        "\n",
        "Se genera una lista cuyos elementos son el resultado de evaluar la expresión para cada valor de la variable que **cumpla la condición**."
      ]
    },
    {
      "cell_type": "code",
      "execution_count": null,
      "metadata": {},
      "outputs": [],
      "source": [
        "# Ejemplos de comprensión de listas\n",
        "\n",
        "# 1. Cuadrados de los primeros 10 números\n",
        "cuadrados = [x**2 for x in range(10)]\n",
        "print(\"Cuadrados de 0 a 9:\", cuadrados)\n",
        "\n",
        "# 2. Filtrar los números pares de 0 a 9\n",
        "pares = [x for x in range(10) if x % 2 == 0]\n",
        "print(\"Pares entre 0 y 9:\", pares)\n",
        "\n",
        "# 3. Cuadrados solo para los pares\n",
        "cuadrados_pares = [x**2 for x in range(10) if x % 2 == 0]\n",
        "print(\"Cuadrados de pares entre 0 y 9:\", cuadrados_pares)\n",
        "\n",
        "# 4. Filtrar nombres a partir de un diccionario de notas\n",
        "notas = {'Carmen':5, 'Antonio':4, 'Juan':8, 'Mónica':9, 'María':6, 'Pablo':3}\n",
        "aprobados = [nombre for (nombre, nota) in notas.items() if nota >= 5]\n",
        "print(\"Estudiantes con nota >=5:\", aprobados)"
      ]
    },
    {
      "cell_type": "markdown",
      "metadata": {},
      "source": [
        "## Comprensión de diccionarios\n",
        "\n",
        "La sintaxis general:\n",
        "`{clave_expresión: valor_expresión for variables in iterable if condición}`\n",
        "\n",
        "Se genera un diccionario cuyas claves y valores son el resultado de evaluar `clave_expresión` y `valor_expresión` para cada elemento que cumpla la condición."
      ]
    },
    {
      "cell_type": "code",
      "execution_count": null,
      "metadata": {},
      "outputs": [],
      "source": [
        "# Ejemplos de comprensión de diccionarios\n",
        "\n",
        "# 1. Longitud de palabras\n",
        "palabras = ['I', 'love', 'Python']\n",
        "longitudes = {palabra: len(palabra) for palabra in palabras}\n",
        "print(\"Longitudes de las palabras:\", longitudes)\n",
        "\n",
        "# 2. Incrementar notas >=5 en un diccionario\n",
        "notas = {'Carmen':5, 'Antonio':4, 'Juan':8, 'Mónica':9, 'María':6, 'Pablo':3}\n",
        "notas_mejoradas = {nombre: nota + 1 for (nombre, nota) in notas.items() if nota >= 5}\n",
        "print(\"Notas mejoradas (solo quienes tenían >=5):\", notas_mejoradas)"
      ]
    },
    {
      "cell_type": "markdown",
      "metadata": {},
      "source": [
        "## Ejercicios sugeridos\n",
        "1. Usar comprensión de listas para generar una lista de números impares entre 1 y 20.\n",
        "2. Dado un diccionario de palabras a frecuencias, generar otro diccionario con las palabras que aparecen más de 3 veces.\n",
        "3. Generar un diccionario inverso (`valor: clave`) para un diccionario cuyos valores sean únicos, usando comprensión de diccionarios.\n",
        "\n",
        "Puedes probar estos ejercicios en las siguientes celdas."
      ]
    },
    {
      "cell_type": "code",
      "execution_count": null,
      "metadata": {},
      "outputs": [],
      "source": [
        "# 1. Impares entre 1 y 20\n",
        "impares = [x for x in range(1, 21) if x % 2 != 0]\n",
        "print(\"Números impares de 1 a 20:\", impares)\n",
        "\n",
        "# 2. Diccionario de ejemplo de frecuencias\n",
        "frecuencias = {'a': 2, 'b': 4, 'c': 5, 'd': 1, 'e': 4}\n",
        "mas_de_tres = {palabra: freq for (palabra, freq) in frecuencias.items() if freq > 3}\n",
        "print(\"Palabras con frecuencia > 3:\", mas_de_tres)\n",
        "\n",
        "# 3. Invertir diccionario (valores únicos)\n",
        "original = {'x': 10, 'y': 20, 'z': 30}\n",
        "invertido = {valor: clave for clave, valor in original.items()}\n",
        "print(\"Diccionario invertido:\", invertido)"
      ]
    }
  ],
  "metadata": {
    "kernelspec": {
      "display_name": "Python 3",
      "language": "python",
      "name": "python3"
    },
    "language_info": {
      "name": "python",
      "version": "3.x"
    }
  },
  "nbformat": 4,
  "nbformat_minor": 2
}