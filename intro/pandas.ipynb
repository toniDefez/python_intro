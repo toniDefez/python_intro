{
 "cells": [
  {
   "cell_type": "markdown",
   "id": "65d04085",
   "metadata": {},
   "source": [
    "Pandas es una librería de Python para manejar y analizar datos en forma de tablas (como si fueran hojas de Excel, pero mucho más potente).\n",
    "\n",
    "Con Pandas puedes:\n",
    "Leer datos desde Excel, CSV, bases de datos, etc.\n",
    "Filtrar, ordenar y transformar datos fácilmente.\n",
    "Hacer cálculos estadísticos y resúmenes.\n",
    "Combinar y limpiar datos."
   ]
  },
  {
   "cell_type": "code",
   "execution_count": 4,
   "id": "abb90755",
   "metadata": {},
   "outputs": [
    {
     "name": "stdout",
     "output_type": "stream",
     "text": [
      "       Mes  Gastos  Ingresos\n",
      "0    Enero     500      1200\n",
      "1  Febrero     620      1150\n",
      "2    Marzo     480      1250\n",
      "3    Abril     550      1300\n",
      "Gastos mayores a 500:\n",
      "       Mes  Gastos  Ingresos\n",
      "1  Febrero     620      1150\n",
      "3    Abril     550      1300\n",
      "Gasto promedio: 537.5\n",
      "Ingreso total: 4900\n",
      "Mes con mayor gasto: Febrero\n"
     ]
    }
   ],
   "source": [
    "import pandas as pd\n",
    "\n",
    "# Creamos un DataFrame (tabla)\n",
    "data = {\n",
    "    \"Mes\": [\"Enero\", \"Febrero\", \"Marzo\", \"Abril\"],\n",
    "    \"Gastos\": [500, 620, 480, 550],\n",
    "    \"Ingresos\": [1200, 1150, 1250, 1300]\n",
    "}\n",
    "\n",
    "df = pd.DataFrame(data)\n",
    "\n",
    "print(df)\n",
    "print(\"Gastos mayores a 500:\")\n",
    "print(df[df[\"Gastos\"] > 500]) \n",
    "print(\"Gasto promedio:\", df[\"Gastos\"].mean())\n",
    "print(\"Ingreso total:\", df[\"Ingresos\"].sum())\n",
    "print(\"Mes con mayor gasto:\", df.loc[df[\"Gastos\"].idxmax()][\"Mes\"])"
   ]
  }
 ],
 "metadata": {
  "kernelspec": {
   "display_name": ".venv",
   "language": "python",
   "name": "python3"
  },
  "language_info": {
   "codemirror_mode": {
    "name": "ipython",
    "version": 3
   },
   "file_extension": ".py",
   "mimetype": "text/x-python",
   "name": "python",
   "nbconvert_exporter": "python",
   "pygments_lexer": "ipython3",
   "version": "3.13.7"
  }
 },
 "nbformat": 4,
 "nbformat_minor": 5
}
