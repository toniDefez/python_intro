{
 "cells": [
  {
   "cell_type": "code",
   "execution_count": 2,
   "id": "a150d0b2",
   "metadata": {},
   "outputs": [
    {
     "name": "stdout",
     "output_type": "stream",
     "text": [
      "8\n"
     ]
    }
   ],
   "source": [
    "add = lambda a, b: a + b \n",
    "\n",
    "print(add(3, 5))  # Output: 8 "
   ]
  },
  {
   "cell_type": "markdown",
   "id": "0012a11c",
   "metadata": {},
   "source": [
    "The basic syntax of a lambda function is:\n",
    "lambda [arguments]: [expression] \n",
    "\n",
    "Lambda functions are most commonly used as arguments to higher-order functions such as map(), filter(), and sorted(). Higher-order functions are functions that can accept other functions, such as lambda functions, as arguments. Let’s look at some examples:\n"
   ]
  },
  {
   "cell_type": "code",
   "execution_count": 4,
   "id": "7fca714f",
   "metadata": {},
   "outputs": [
    {
     "name": "stdout",
     "output_type": "stream",
     "text": [
      "[1, 4, 9, 16, 25]\n"
     ]
    }
   ],
   "source": [
    "numbers = [1, 2, 3, 4, 5] \n",
    "\n",
    "squared = list(map(lambda x: x ** 2, numbers)) \n",
    "\n",
    "print(squared)  # Output: [1, 4, 9, 16, 25]"
   ]
  }
 ],
 "metadata": {
  "kernelspec": {
   "display_name": ".venv",
   "language": "python",
   "name": "python3"
  },
  "language_info": {
   "codemirror_mode": {
    "name": "ipython",
    "version": 3
   },
   "file_extension": ".py",
   "mimetype": "text/x-python",
   "name": "python",
   "nbconvert_exporter": "python",
   "pygments_lexer": "ipython3",
   "version": "3.13.7"
  }
 },
 "nbformat": 4,
 "nbformat_minor": 5
}
